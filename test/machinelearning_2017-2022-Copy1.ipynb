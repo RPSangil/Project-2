{
 "cells": [
  {
   "cell_type": "code",
   "execution_count": 1,
   "id": "de45006b-b9fd-460e-b514-8c613894954d",
   "metadata": {},
   "outputs": [],
   "source": [
    "# Import required libraries\n",
    "import pandas as pd\n",
    "from pathlib import Path\n",
    "from pandas.tseries.offsets import DateOffset\n",
    "import warnings\n",
    "warnings.filterwarnings(\"ignore\")\n"
   ]
  },
  {
   "cell_type": "code",
   "execution_count": 2,
   "id": "0f44e147-3e4c-4b3b-91b4-97f7e4b3387c",
   "metadata": {},
   "outputs": [],
   "source": [
    "trading_df = pd.read_csv(\n",
    "    Path(\"5 year close volume.csv\"), \n",
    "    index_col=\"time\", \n",
    "    infer_datetime_format=True, \n",
    "    parse_dates=True)\n"
   ]
  },
  {
   "cell_type": "code",
   "execution_count": 3,
   "id": "50bea2f0-3096-4a61-a917-7dab44e5f7be",
   "metadata": {},
   "outputs": [
    {
     "data": {
      "text/html": [
       "<div>\n",
       "<style scoped>\n",
       "    .dataframe tbody tr th:only-of-type {\n",
       "        vertical-align: middle;\n",
       "    }\n",
       "\n",
       "    .dataframe tbody tr th {\n",
       "        vertical-align: top;\n",
       "    }\n",
       "\n",
       "    .dataframe thead th {\n",
       "        text-align: right;\n",
       "    }\n",
       "</style>\n",
       "<table border=\"1\" class=\"dataframe\">\n",
       "  <thead>\n",
       "    <tr style=\"text-align: right;\">\n",
       "      <th></th>\n",
       "      <th>Core_MSCI_World_ex_Australia_ESG_Leaders_Volume</th>\n",
       "      <th>Edge_MSCI_World_Multifactor_Volume</th>\n",
       "      <th>Global_100_Volume</th>\n",
       "      <th>Global_Healthcare_Volume</th>\n",
       "      <th>SP_500_Volume</th>\n",
       "      <th>volume</th>\n",
       "      <th>Core_MSCI_World_ex_Australia_ESG_Leaders_Costs</th>\n",
       "      <th>Edge_MSCI_World_Multifactor_Costs</th>\n",
       "      <th>Global_100_Costs</th>\n",
       "      <th>Global_Healthcare_Costs</th>\n",
       "      <th>SP_500_Costs</th>\n",
       "      <th>close</th>\n",
       "    </tr>\n",
       "    <tr>\n",
       "      <th>time</th>\n",
       "      <th></th>\n",
       "      <th></th>\n",
       "      <th></th>\n",
       "      <th></th>\n",
       "      <th></th>\n",
       "      <th></th>\n",
       "      <th></th>\n",
       "      <th></th>\n",
       "      <th></th>\n",
       "      <th></th>\n",
       "      <th></th>\n",
       "      <th></th>\n",
       "    </tr>\n",
       "  </thead>\n",
       "  <tbody>\n",
       "    <tr>\n",
       "      <th>2017-06-30</th>\n",
       "      <td>320,086.00</td>\n",
       "      <td>440,000.00</td>\n",
       "      <td>37,800,000.00</td>\n",
       "      <td>28,800,000.00</td>\n",
       "      <td>474,400,000.00</td>\n",
       "      <td>108,352,017.20</td>\n",
       "      <td>29.21</td>\n",
       "      <td>28.52</td>\n",
       "      <td>54.75</td>\n",
       "      <td>71.15</td>\n",
       "      <td>317.30</td>\n",
       "      <td>100.186</td>\n",
       "    </tr>\n",
       "    <tr>\n",
       "      <th>2017-07-03</th>\n",
       "      <td>320,321.00</td>\n",
       "      <td>441,292.00</td>\n",
       "      <td>37,800,000.00</td>\n",
       "      <td>28,800,000.00</td>\n",
       "      <td>475,750,000.00</td>\n",
       "      <td>108,622,322.60</td>\n",
       "      <td>29.08</td>\n",
       "      <td>27.53</td>\n",
       "      <td>55.20</td>\n",
       "      <td>71.38</td>\n",
       "      <td>319.00</td>\n",
       "      <td>100.438</td>\n",
       "    </tr>\n",
       "    <tr>\n",
       "      <th>2017-07-05</th>\n",
       "      <td>360,380.00</td>\n",
       "      <td>441,264.00</td>\n",
       "      <td>37,800,000.00</td>\n",
       "      <td>28,800,000.00</td>\n",
       "      <td>476,450,000.00</td>\n",
       "      <td>108,770,328.80</td>\n",
       "      <td>29.34</td>\n",
       "      <td>27.79</td>\n",
       "      <td>55.66</td>\n",
       "      <td>72.17</td>\n",
       "      <td>322.37</td>\n",
       "      <td>101.466</td>\n",
       "    </tr>\n",
       "    <tr>\n",
       "      <th>2017-07-06</th>\n",
       "      <td>360,380.00</td>\n",
       "      <td>441,264.00</td>\n",
       "      <td>37,800,000.00</td>\n",
       "      <td>29,000,000.00</td>\n",
       "      <td>476,850,000.00</td>\n",
       "      <td>108,890,328.80</td>\n",
       "      <td>29.13</td>\n",
       "      <td>27.68</td>\n",
       "      <td>55.40</td>\n",
       "      <td>71.38</td>\n",
       "      <td>319.49</td>\n",
       "      <td>100.616</td>\n",
       "    </tr>\n",
       "    <tr>\n",
       "      <th>2017-07-07</th>\n",
       "      <td>360,380.00</td>\n",
       "      <td>441,264.00</td>\n",
       "      <td>37,800,000.00</td>\n",
       "      <td>29,200,000.00</td>\n",
       "      <td>477,550,000.00</td>\n",
       "      <td>109,070,328.80</td>\n",
       "      <td>29.17</td>\n",
       "      <td>27.71</td>\n",
       "      <td>55.32</td>\n",
       "      <td>71.34</td>\n",
       "      <td>320.52</td>\n",
       "      <td>100.812</td>\n",
       "    </tr>\n",
       "  </tbody>\n",
       "</table>\n",
       "</div>"
      ],
      "text/plain": [
       "           Core_MSCI_World_ex_Australia_ESG_Leaders_Volume  \\\n",
       "time                                                         \n",
       "2017-06-30                                      320,086.00   \n",
       "2017-07-03                                      320,321.00   \n",
       "2017-07-05                                      360,380.00   \n",
       "2017-07-06                                      360,380.00   \n",
       "2017-07-07                                      360,380.00   \n",
       "\n",
       "           Edge_MSCI_World_Multifactor_Volume Global_100_Volume  \\\n",
       "time                                                              \n",
       "2017-06-30                         440,000.00     37,800,000.00   \n",
       "2017-07-03                         441,292.00     37,800,000.00   \n",
       "2017-07-05                         441,264.00     37,800,000.00   \n",
       "2017-07-06                         441,264.00     37,800,000.00   \n",
       "2017-07-07                         441,264.00     37,800,000.00   \n",
       "\n",
       "           Global_Healthcare_Volume   SP_500_Volume          volume  \\\n",
       "time                                                                  \n",
       "2017-06-30            28,800,000.00  474,400,000.00  108,352,017.20   \n",
       "2017-07-03            28,800,000.00  475,750,000.00  108,622,322.60   \n",
       "2017-07-05            28,800,000.00  476,450,000.00  108,770,328.80   \n",
       "2017-07-06            29,000,000.00  476,850,000.00  108,890,328.80   \n",
       "2017-07-07            29,200,000.00  477,550,000.00  109,070,328.80   \n",
       "\n",
       "            Core_MSCI_World_ex_Australia_ESG_Leaders_Costs  \\\n",
       "time                                                         \n",
       "2017-06-30                                           29.21   \n",
       "2017-07-03                                           29.08   \n",
       "2017-07-05                                           29.34   \n",
       "2017-07-06                                           29.13   \n",
       "2017-07-07                                           29.17   \n",
       "\n",
       "            Edge_MSCI_World_Multifactor_Costs  Global_100_Costs  \\\n",
       "time                                                              \n",
       "2017-06-30                              28.52             54.75   \n",
       "2017-07-03                              27.53             55.20   \n",
       "2017-07-05                              27.79             55.66   \n",
       "2017-07-06                              27.68             55.40   \n",
       "2017-07-07                              27.71             55.32   \n",
       "\n",
       "            Global_Healthcare_Costs  SP_500_Costs    close  \n",
       "time                                                        \n",
       "2017-06-30                    71.15        317.30  100.186  \n",
       "2017-07-03                    71.38        319.00  100.438  \n",
       "2017-07-05                    72.17        322.37  101.466  \n",
       "2017-07-06                    71.38        319.49  100.616  \n",
       "2017-07-07                    71.34        320.52  100.812  "
      ]
     },
     "execution_count": 3,
     "metadata": {},
     "output_type": "execute_result"
    }
   ],
   "source": [
    "# Review the Data-Frame\n",
    "trading_df.head()"
   ]
  },
  {
   "cell_type": "code",
   "execution_count": 4,
   "id": "692e56aa-2cf5-454d-b9b9-9b806b9643f4",
   "metadata": {},
   "outputs": [
    {
     "data": {
      "text/html": [
       "<div>\n",
       "<style scoped>\n",
       "    .dataframe tbody tr th:only-of-type {\n",
       "        vertical-align: middle;\n",
       "    }\n",
       "\n",
       "    .dataframe tbody tr th {\n",
       "        vertical-align: top;\n",
       "    }\n",
       "\n",
       "    .dataframe thead th {\n",
       "        text-align: right;\n",
       "    }\n",
       "</style>\n",
       "<table border=\"1\" class=\"dataframe\">\n",
       "  <thead>\n",
       "    <tr style=\"text-align: right;\">\n",
       "      <th></th>\n",
       "      <th>Core_MSCI_World_ex_Australia_ESG_Leaders_Volume</th>\n",
       "      <th>Edge_MSCI_World_Multifactor_Volume</th>\n",
       "      <th>Global_100_Volume</th>\n",
       "      <th>Global_Healthcare_Volume</th>\n",
       "      <th>SP_500_Volume</th>\n",
       "      <th>volume</th>\n",
       "      <th>Core_MSCI_World_ex_Australia_ESG_Leaders_Costs</th>\n",
       "      <th>Edge_MSCI_World_Multifactor_Costs</th>\n",
       "      <th>Global_100_Costs</th>\n",
       "      <th>Global_Healthcare_Costs</th>\n",
       "      <th>SP_500_Costs</th>\n",
       "      <th>close</th>\n",
       "      <th>actual_returns</th>\n",
       "    </tr>\n",
       "    <tr>\n",
       "      <th>time</th>\n",
       "      <th></th>\n",
       "      <th></th>\n",
       "      <th></th>\n",
       "      <th></th>\n",
       "      <th></th>\n",
       "      <th></th>\n",
       "      <th></th>\n",
       "      <th></th>\n",
       "      <th></th>\n",
       "      <th></th>\n",
       "      <th></th>\n",
       "      <th></th>\n",
       "      <th></th>\n",
       "    </tr>\n",
       "  </thead>\n",
       "  <tbody>\n",
       "    <tr>\n",
       "      <th>2017-07-03</th>\n",
       "      <td>320,321.00</td>\n",
       "      <td>441,292.00</td>\n",
       "      <td>37,800,000.00</td>\n",
       "      <td>28,800,000.00</td>\n",
       "      <td>475,750,000.00</td>\n",
       "      <td>108,622,322.60</td>\n",
       "      <td>29.08</td>\n",
       "      <td>27.53</td>\n",
       "      <td>55.20</td>\n",
       "      <td>71.38</td>\n",
       "      <td>319.00</td>\n",
       "      <td>100.438</td>\n",
       "      <td>0.002515</td>\n",
       "    </tr>\n",
       "    <tr>\n",
       "      <th>2017-07-05</th>\n",
       "      <td>360,380.00</td>\n",
       "      <td>441,264.00</td>\n",
       "      <td>37,800,000.00</td>\n",
       "      <td>28,800,000.00</td>\n",
       "      <td>476,450,000.00</td>\n",
       "      <td>108,770,328.80</td>\n",
       "      <td>29.34</td>\n",
       "      <td>27.79</td>\n",
       "      <td>55.66</td>\n",
       "      <td>72.17</td>\n",
       "      <td>322.37</td>\n",
       "      <td>101.466</td>\n",
       "      <td>0.010235</td>\n",
       "    </tr>\n",
       "    <tr>\n",
       "      <th>2017-07-06</th>\n",
       "      <td>360,380.00</td>\n",
       "      <td>441,264.00</td>\n",
       "      <td>37,800,000.00</td>\n",
       "      <td>29,000,000.00</td>\n",
       "      <td>476,850,000.00</td>\n",
       "      <td>108,890,328.80</td>\n",
       "      <td>29.13</td>\n",
       "      <td>27.68</td>\n",
       "      <td>55.40</td>\n",
       "      <td>71.38</td>\n",
       "      <td>319.49</td>\n",
       "      <td>100.616</td>\n",
       "      <td>-0.008377</td>\n",
       "    </tr>\n",
       "    <tr>\n",
       "      <th>2017-07-07</th>\n",
       "      <td>360,380.00</td>\n",
       "      <td>441,264.00</td>\n",
       "      <td>37,800,000.00</td>\n",
       "      <td>29,200,000.00</td>\n",
       "      <td>477,550,000.00</td>\n",
       "      <td>109,070,328.80</td>\n",
       "      <td>29.17</td>\n",
       "      <td>27.71</td>\n",
       "      <td>55.32</td>\n",
       "      <td>71.34</td>\n",
       "      <td>320.52</td>\n",
       "      <td>100.812</td>\n",
       "      <td>0.001948</td>\n",
       "    </tr>\n",
       "    <tr>\n",
       "      <th>2017-07-10</th>\n",
       "      <td>360,380.00</td>\n",
       "      <td>441,264.00</td>\n",
       "      <td>37,800,000.00</td>\n",
       "      <td>29,200,000.00</td>\n",
       "      <td>477,800,000.00</td>\n",
       "      <td>109,120,328.80</td>\n",
       "      <td>29.23</td>\n",
       "      <td>27.81</td>\n",
       "      <td>55.52</td>\n",
       "      <td>71.29</td>\n",
       "      <td>321.22</td>\n",
       "      <td>101.014</td>\n",
       "      <td>0.002004</td>\n",
       "    </tr>\n",
       "  </tbody>\n",
       "</table>\n",
       "</div>"
      ],
      "text/plain": [
       "           Core_MSCI_World_ex_Australia_ESG_Leaders_Volume  \\\n",
       "time                                                         \n",
       "2017-07-03                                      320,321.00   \n",
       "2017-07-05                                      360,380.00   \n",
       "2017-07-06                                      360,380.00   \n",
       "2017-07-07                                      360,380.00   \n",
       "2017-07-10                                      360,380.00   \n",
       "\n",
       "           Edge_MSCI_World_Multifactor_Volume Global_100_Volume  \\\n",
       "time                                                              \n",
       "2017-07-03                         441,292.00     37,800,000.00   \n",
       "2017-07-05                         441,264.00     37,800,000.00   \n",
       "2017-07-06                         441,264.00     37,800,000.00   \n",
       "2017-07-07                         441,264.00     37,800,000.00   \n",
       "2017-07-10                         441,264.00     37,800,000.00   \n",
       "\n",
       "           Global_Healthcare_Volume   SP_500_Volume          volume  \\\n",
       "time                                                                  \n",
       "2017-07-03            28,800,000.00  475,750,000.00  108,622,322.60   \n",
       "2017-07-05            28,800,000.00  476,450,000.00  108,770,328.80   \n",
       "2017-07-06            29,000,000.00  476,850,000.00  108,890,328.80   \n",
       "2017-07-07            29,200,000.00  477,550,000.00  109,070,328.80   \n",
       "2017-07-10            29,200,000.00  477,800,000.00  109,120,328.80   \n",
       "\n",
       "            Core_MSCI_World_ex_Australia_ESG_Leaders_Costs  \\\n",
       "time                                                         \n",
       "2017-07-03                                           29.08   \n",
       "2017-07-05                                           29.34   \n",
       "2017-07-06                                           29.13   \n",
       "2017-07-07                                           29.17   \n",
       "2017-07-10                                           29.23   \n",
       "\n",
       "            Edge_MSCI_World_Multifactor_Costs  Global_100_Costs  \\\n",
       "time                                                              \n",
       "2017-07-03                              27.53             55.20   \n",
       "2017-07-05                              27.79             55.66   \n",
       "2017-07-06                              27.68             55.40   \n",
       "2017-07-07                              27.71             55.32   \n",
       "2017-07-10                              27.81             55.52   \n",
       "\n",
       "            Global_Healthcare_Costs  SP_500_Costs    close  actual_returns  \n",
       "time                                                                        \n",
       "2017-07-03                    71.38        319.00  100.438        0.002515  \n",
       "2017-07-05                    72.17        322.37  101.466        0.010235  \n",
       "2017-07-06                    71.38        319.49  100.616       -0.008377  \n",
       "2017-07-07                    71.34        320.52  100.812        0.001948  \n",
       "2017-07-10                    71.29        321.22  101.014        0.002004  "
      ]
     },
     "metadata": {},
     "output_type": "display_data"
    },
    {
     "data": {
      "text/html": [
       "<div>\n",
       "<style scoped>\n",
       "    .dataframe tbody tr th:only-of-type {\n",
       "        vertical-align: middle;\n",
       "    }\n",
       "\n",
       "    .dataframe tbody tr th {\n",
       "        vertical-align: top;\n",
       "    }\n",
       "\n",
       "    .dataframe thead th {\n",
       "        text-align: right;\n",
       "    }\n",
       "</style>\n",
       "<table border=\"1\" class=\"dataframe\">\n",
       "  <thead>\n",
       "    <tr style=\"text-align: right;\">\n",
       "      <th></th>\n",
       "      <th>Core_MSCI_World_ex_Australia_ESG_Leaders_Volume</th>\n",
       "      <th>Edge_MSCI_World_Multifactor_Volume</th>\n",
       "      <th>Global_100_Volume</th>\n",
       "      <th>Global_Healthcare_Volume</th>\n",
       "      <th>SP_500_Volume</th>\n",
       "      <th>volume</th>\n",
       "      <th>Core_MSCI_World_ex_Australia_ESG_Leaders_Costs</th>\n",
       "      <th>Edge_MSCI_World_Multifactor_Costs</th>\n",
       "      <th>Global_100_Costs</th>\n",
       "      <th>Global_Healthcare_Costs</th>\n",
       "      <th>SP_500_Costs</th>\n",
       "      <th>close</th>\n",
       "      <th>actual_returns</th>\n",
       "    </tr>\n",
       "    <tr>\n",
       "      <th>time</th>\n",
       "      <th></th>\n",
       "      <th></th>\n",
       "      <th></th>\n",
       "      <th></th>\n",
       "      <th></th>\n",
       "      <th></th>\n",
       "      <th></th>\n",
       "      <th></th>\n",
       "      <th></th>\n",
       "      <th></th>\n",
       "      <th></th>\n",
       "      <th></th>\n",
       "      <th></th>\n",
       "    </tr>\n",
       "  </thead>\n",
       "  <tbody>\n",
       "    <tr>\n",
       "      <th>2022-07-06</th>\n",
       "      <td>13,679,665.00</td>\n",
       "      <td>4,148,097.00</td>\n",
       "      <td>25,812,718.00</td>\n",
       "      <td>9,576,090.00</td>\n",
       "      <td>8,628,949.00</td>\n",
       "      <td>12,369,103.80</td>\n",
       "      <td>38.18</td>\n",
       "      <td>33.07</td>\n",
       "      <td>95.16</td>\n",
       "      <td>120.73</td>\n",
       "      <td>567.65</td>\n",
       "      <td>170.958</td>\n",
       "      <td>0.004277</td>\n",
       "    </tr>\n",
       "    <tr>\n",
       "      <th>2022-07-07</th>\n",
       "      <td>13,679,665.00</td>\n",
       "      <td>4,148,097.00</td>\n",
       "      <td>25,796,718.00</td>\n",
       "      <td>9,578,690.00</td>\n",
       "      <td>8,628,949.00</td>\n",
       "      <td>12,366,423.80</td>\n",
       "      <td>38.46</td>\n",
       "      <td>33.39</td>\n",
       "      <td>95.81</td>\n",
       "      <td>120.17</td>\n",
       "      <td>570.92</td>\n",
       "      <td>171.750</td>\n",
       "      <td>0.004633</td>\n",
       "    </tr>\n",
       "    <tr>\n",
       "      <th>2022-07-08</th>\n",
       "      <td>13,679,665.00</td>\n",
       "      <td>4,148,097.00</td>\n",
       "      <td>25,804,718.00</td>\n",
       "      <td>9,578,690.00</td>\n",
       "      <td>8,630,249.00</td>\n",
       "      <td>12,368,283.80</td>\n",
       "      <td>38.31</td>\n",
       "      <td>33.28</td>\n",
       "      <td>95.28</td>\n",
       "      <td>119.74</td>\n",
       "      <td>567.81</td>\n",
       "      <td>170.884</td>\n",
       "      <td>-0.005042</td>\n",
       "    </tr>\n",
       "    <tr>\n",
       "      <th>2022-07-11</th>\n",
       "      <td>13,679,665.00</td>\n",
       "      <td>4,148,097.00</td>\n",
       "      <td>25,812,718.00</td>\n",
       "      <td>9,581,290.00</td>\n",
       "      <td>8,630,249.00</td>\n",
       "      <td>12,370,403.80</td>\n",
       "      <td>38.59</td>\n",
       "      <td>33.57</td>\n",
       "      <td>95.86</td>\n",
       "      <td>121.58</td>\n",
       "      <td>572.17</td>\n",
       "      <td>172.354</td>\n",
       "      <td>0.008602</td>\n",
       "    </tr>\n",
       "    <tr>\n",
       "      <th>2022-07-12</th>\n",
       "      <td>13,679,665.00</td>\n",
       "      <td>4,148,097.00</td>\n",
       "      <td>25,796,718.00</td>\n",
       "      <td>9,582,590.00</td>\n",
       "      <td>8,621,149.00</td>\n",
       "      <td>12,365,643.80</td>\n",
       "      <td>38.09</td>\n",
       "      <td>33.27</td>\n",
       "      <td>94.66</td>\n",
       "      <td>119.84</td>\n",
       "      <td>564.68</td>\n",
       "      <td>170.108</td>\n",
       "      <td>-0.013031</td>\n",
       "    </tr>\n",
       "  </tbody>\n",
       "</table>\n",
       "</div>"
      ],
      "text/plain": [
       "           Core_MSCI_World_ex_Australia_ESG_Leaders_Volume  \\\n",
       "time                                                         \n",
       "2022-07-06                                   13,679,665.00   \n",
       "2022-07-07                                   13,679,665.00   \n",
       "2022-07-08                                   13,679,665.00   \n",
       "2022-07-11                                   13,679,665.00   \n",
       "2022-07-12                                   13,679,665.00   \n",
       "\n",
       "           Edge_MSCI_World_Multifactor_Volume Global_100_Volume  \\\n",
       "time                                                              \n",
       "2022-07-06                       4,148,097.00     25,812,718.00   \n",
       "2022-07-07                       4,148,097.00     25,796,718.00   \n",
       "2022-07-08                       4,148,097.00     25,804,718.00   \n",
       "2022-07-11                       4,148,097.00     25,812,718.00   \n",
       "2022-07-12                       4,148,097.00     25,796,718.00   \n",
       "\n",
       "           Global_Healthcare_Volume SP_500_Volume         volume  \\\n",
       "time                                                               \n",
       "2022-07-06             9,576,090.00  8,628,949.00  12,369,103.80   \n",
       "2022-07-07             9,578,690.00  8,628,949.00  12,366,423.80   \n",
       "2022-07-08             9,578,690.00  8,630,249.00  12,368,283.80   \n",
       "2022-07-11             9,581,290.00  8,630,249.00  12,370,403.80   \n",
       "2022-07-12             9,582,590.00  8,621,149.00  12,365,643.80   \n",
       "\n",
       "            Core_MSCI_World_ex_Australia_ESG_Leaders_Costs  \\\n",
       "time                                                         \n",
       "2022-07-06                                           38.18   \n",
       "2022-07-07                                           38.46   \n",
       "2022-07-08                                           38.31   \n",
       "2022-07-11                                           38.59   \n",
       "2022-07-12                                           38.09   \n",
       "\n",
       "            Edge_MSCI_World_Multifactor_Costs  Global_100_Costs  \\\n",
       "time                                                              \n",
       "2022-07-06                              33.07             95.16   \n",
       "2022-07-07                              33.39             95.81   \n",
       "2022-07-08                              33.28             95.28   \n",
       "2022-07-11                              33.57             95.86   \n",
       "2022-07-12                              33.27             94.66   \n",
       "\n",
       "            Global_Healthcare_Costs  SP_500_Costs    close  actual_returns  \n",
       "time                                                                        \n",
       "2022-07-06                   120.73        567.65  170.958        0.004277  \n",
       "2022-07-07                   120.17        570.92  171.750        0.004633  \n",
       "2022-07-08                   119.74        567.81  170.884       -0.005042  \n",
       "2022-07-11                   121.58        572.17  172.354        0.008602  \n",
       "2022-07-12                   119.84        564.68  170.108       -0.013031  "
      ]
     },
     "metadata": {},
     "output_type": "display_data"
    }
   ],
   "source": [
    "# Calculate the daily returns using the closing prices and the pct_change function\n",
    "trading_df[\"actual_returns\"] = trading_df[\"close\"].pct_change()\n",
    "\n",
    "# Drop all NaN values from the DataFrame\n",
    "trading_df = trading_df.dropna()\n",
    "\n",
    "# Review the DataFrame\n",
    "display(trading_df.head())\n",
    "display(trading_df.tail())"
   ]
  },
  {
   "cell_type": "code",
   "execution_count": 5,
   "id": "971e311e-41bc-460d-8205-35cdd04883e0",
   "metadata": {},
   "outputs": [],
   "source": [
    "# Define a window size of 4\n",
    "short_window = 4\n",
    "\n",
    "# Create a simple moving average (SMA) using the short_window and assign this to a new columns called sma_fast\n",
    "trading_df[\"sma_fast\"] = trading_df[\"close\"].rolling(window=short_window).mean()"
   ]
  },
  {
   "cell_type": "code",
   "execution_count": 6,
   "id": "12a2ccfe-a0fa-457a-8170-123ed5aa4a55",
   "metadata": {},
   "outputs": [],
   "source": [
    "# Define a window size of 100\n",
    "long_window = 100\n",
    "\n",
    "# Create a simple moving average (SMA) using the long_window and assign this to a new columns called sma_slow\n",
    "trading_df[\"sma_slow\"] = trading_df[\"close\"].rolling(window=long_window).mean()"
   ]
  },
  {
   "cell_type": "code",
   "execution_count": 7,
   "id": "bfd020eb-9b78-4213-98e3-2b59f06ee294",
   "metadata": {},
   "outputs": [],
   "source": [
    "# Drop the NaNs using dropna()\n",
    "trading_df = trading_df.dropna()"
   ]
  },
  {
   "cell_type": "code",
   "execution_count": 8,
   "id": "5b61059c-549e-4fba-84e5-6d6b507b2a58",
   "metadata": {},
   "outputs": [
    {
     "data": {
      "text/html": [
       "<div>\n",
       "<style scoped>\n",
       "    .dataframe tbody tr th:only-of-type {\n",
       "        vertical-align: middle;\n",
       "    }\n",
       "\n",
       "    .dataframe tbody tr th {\n",
       "        vertical-align: top;\n",
       "    }\n",
       "\n",
       "    .dataframe thead th {\n",
       "        text-align: right;\n",
       "    }\n",
       "</style>\n",
       "<table border=\"1\" class=\"dataframe\">\n",
       "  <thead>\n",
       "    <tr style=\"text-align: right;\">\n",
       "      <th></th>\n",
       "      <th>sma_fast</th>\n",
       "      <th>sma_slow</th>\n",
       "    </tr>\n",
       "    <tr>\n",
       "      <th>time</th>\n",
       "      <th></th>\n",
       "      <th></th>\n",
       "    </tr>\n",
       "  </thead>\n",
       "  <tbody>\n",
       "    <tr>\n",
       "      <th>2017-11-21</th>\n",
       "      <td>107.9315</td>\n",
       "      <td>101.28058</td>\n",
       "    </tr>\n",
       "    <tr>\n",
       "      <th>2017-11-22</th>\n",
       "      <td>108.1045</td>\n",
       "      <td>101.35856</td>\n",
       "    </tr>\n",
       "    <tr>\n",
       "      <th>2017-11-24</th>\n",
       "      <td>108.1355</td>\n",
       "      <td>101.42418</td>\n",
       "    </tr>\n",
       "    <tr>\n",
       "      <th>2017-11-27</th>\n",
       "      <td>108.1420</td>\n",
       "      <td>101.49794</td>\n",
       "    </tr>\n",
       "    <tr>\n",
       "      <th>2017-11-28</th>\n",
       "      <td>108.3630</td>\n",
       "      <td>101.58178</td>\n",
       "    </tr>\n",
       "  </tbody>\n",
       "</table>\n",
       "</div>"
      ],
      "text/plain": [
       "            sma_fast   sma_slow\n",
       "time                           \n",
       "2017-11-21  107.9315  101.28058\n",
       "2017-11-22  108.1045  101.35856\n",
       "2017-11-24  108.1355  101.42418\n",
       "2017-11-27  108.1420  101.49794\n",
       "2017-11-28  108.3630  101.58178"
      ]
     },
     "metadata": {},
     "output_type": "display_data"
    },
    {
     "data": {
      "text/html": [
       "<div>\n",
       "<style scoped>\n",
       "    .dataframe tbody tr th:only-of-type {\n",
       "        vertical-align: middle;\n",
       "    }\n",
       "\n",
       "    .dataframe tbody tr th {\n",
       "        vertical-align: top;\n",
       "    }\n",
       "\n",
       "    .dataframe thead th {\n",
       "        text-align: right;\n",
       "    }\n",
       "</style>\n",
       "<table border=\"1\" class=\"dataframe\">\n",
       "  <thead>\n",
       "    <tr style=\"text-align: right;\">\n",
       "      <th></th>\n",
       "      <th>sma_fast</th>\n",
       "      <th>sma_slow</th>\n",
       "    </tr>\n",
       "    <tr>\n",
       "      <th>time</th>\n",
       "      <th></th>\n",
       "      <th></th>\n",
       "    </tr>\n",
       "  </thead>\n",
       "  <tbody>\n",
       "    <tr>\n",
       "      <th>2022-07-06</th>\n",
       "      <td>169.9200</td>\n",
       "      <td>174.96010</td>\n",
       "    </tr>\n",
       "    <tr>\n",
       "      <th>2022-07-07</th>\n",
       "      <td>170.2950</td>\n",
       "      <td>174.84136</td>\n",
       "    </tr>\n",
       "    <tr>\n",
       "      <th>2022-07-08</th>\n",
       "      <td>170.9555</td>\n",
       "      <td>174.70764</td>\n",
       "    </tr>\n",
       "    <tr>\n",
       "      <th>2022-07-11</th>\n",
       "      <td>171.4865</td>\n",
       "      <td>174.56580</td>\n",
       "    </tr>\n",
       "    <tr>\n",
       "      <th>2022-07-12</th>\n",
       "      <td>171.2740</td>\n",
       "      <td>174.40548</td>\n",
       "    </tr>\n",
       "  </tbody>\n",
       "</table>\n",
       "</div>"
      ],
      "text/plain": [
       "            sma_fast   sma_slow\n",
       "time                           \n",
       "2022-07-06  169.9200  174.96010\n",
       "2022-07-07  170.2950  174.84136\n",
       "2022-07-08  170.9555  174.70764\n",
       "2022-07-11  171.4865  174.56580\n",
       "2022-07-12  171.2740  174.40548"
      ]
     },
     "metadata": {},
     "output_type": "display_data"
    }
   ],
   "source": [
    "# Assign a copy of the sma_fast and sma_slow columns to a new DataFrame called X\n",
    "X = trading_df[[\"sma_fast\", \"sma_slow\"]].copy()\n",
    "\n",
    "# Display sample data\n",
    "display(X.head())\n",
    "display(X.tail())"
   ]
  },
  {
   "cell_type": "code",
   "execution_count": 9,
   "id": "3b0552c7-a22b-462e-bbd1-d78fa0119e32",
   "metadata": {},
   "outputs": [],
   "source": [
    "# Create a new column in the trading_df called signal setting its value to zero.\n",
    "trading_df[\"signal\"] = 0.0"
   ]
  },
  {
   "cell_type": "code",
   "execution_count": 10,
   "id": "f2e5bb22-b5d7-4290-8166-46ee5f99a764",
   "metadata": {},
   "outputs": [],
   "source": [
    "# Create the signal to buy\n",
    "trading_df.loc[(trading_df[\"actual_returns\"] >= 0), \"signal\"] = 1"
   ]
  },
  {
   "cell_type": "code",
   "execution_count": 11,
   "id": "553314eb-cacc-4cb2-8d76-2353266ad3a1",
   "metadata": {},
   "outputs": [],
   "source": [
    "# Create the signal to sell\n",
    "trading_df.loc[(trading_df[\"actual_returns\"] < 0), \"signal\"] = -1"
   ]
  },
  {
   "cell_type": "code",
   "execution_count": 12,
   "id": "5faf716c-816c-4960-8358-f406495d4dbd",
   "metadata": {},
   "outputs": [],
   "source": [
    "# Copy the new signal column to a new Series called y.\n",
    "y = trading_df[\"signal\"].copy()"
   ]
  },
  {
   "cell_type": "code",
   "execution_count": 13,
   "id": "f76db1fb-af86-434f-ae94-693ac5c0f8ff",
   "metadata": {},
   "outputs": [],
   "source": [
    "#TEST&SPLIT"
   ]
  },
  {
   "cell_type": "code",
   "execution_count": 14,
   "id": "ae191573-8fc7-49ed-b4f8-03b62a90471e",
   "metadata": {},
   "outputs": [
    {
     "name": "stdout",
     "output_type": "stream",
     "text": [
      "2017-11-21 00:00:00\n"
     ]
    }
   ],
   "source": [
    "# Select the start of the training period\n",
    "training_begin =  X.index.min()\n",
    "\n",
    "# Display the training begin date\n",
    "print(training_begin)"
   ]
  },
  {
   "cell_type": "code",
   "execution_count": 15,
   "id": "17895770-3bff-4f39-af86-0632012870cc",
   "metadata": {},
   "outputs": [
    {
     "name": "stdout",
     "output_type": "stream",
     "text": [
      "2018-02-21 00:00:00\n"
     ]
    }
   ],
   "source": [
    "# Select the ending period for the training data with an offset of 3 months\n",
    "training_end = X.index.min() + DateOffset(months=3)\n",
    "X.index.min() + DateOffset(months=3)\n",
    "# Display the training end date\n",
    "print(training_end)"
   ]
  },
  {
   "cell_type": "code",
   "execution_count": 16,
   "id": "50e1dd33-3579-459f-a9b7-588f1ead67dc",
   "metadata": {},
   "outputs": [
    {
     "data": {
      "text/html": [
       "<div>\n",
       "<style scoped>\n",
       "    .dataframe tbody tr th:only-of-type {\n",
       "        vertical-align: middle;\n",
       "    }\n",
       "\n",
       "    .dataframe tbody tr th {\n",
       "        vertical-align: top;\n",
       "    }\n",
       "\n",
       "    .dataframe thead th {\n",
       "        text-align: right;\n",
       "    }\n",
       "</style>\n",
       "<table border=\"1\" class=\"dataframe\">\n",
       "  <thead>\n",
       "    <tr style=\"text-align: right;\">\n",
       "      <th></th>\n",
       "      <th>sma_fast</th>\n",
       "      <th>sma_slow</th>\n",
       "    </tr>\n",
       "    <tr>\n",
       "      <th>time</th>\n",
       "      <th></th>\n",
       "      <th></th>\n",
       "    </tr>\n",
       "  </thead>\n",
       "  <tbody>\n",
       "    <tr>\n",
       "      <th>2017-11-21</th>\n",
       "      <td>107.9315</td>\n",
       "      <td>101.28058</td>\n",
       "    </tr>\n",
       "    <tr>\n",
       "      <th>2017-11-22</th>\n",
       "      <td>108.1045</td>\n",
       "      <td>101.35856</td>\n",
       "    </tr>\n",
       "    <tr>\n",
       "      <th>2017-11-24</th>\n",
       "      <td>108.1355</td>\n",
       "      <td>101.42418</td>\n",
       "    </tr>\n",
       "    <tr>\n",
       "      <th>2017-11-27</th>\n",
       "      <td>108.1420</td>\n",
       "      <td>101.49794</td>\n",
       "    </tr>\n",
       "    <tr>\n",
       "      <th>2017-11-28</th>\n",
       "      <td>108.3630</td>\n",
       "      <td>101.58178</td>\n",
       "    </tr>\n",
       "  </tbody>\n",
       "</table>\n",
       "</div>"
      ],
      "text/plain": [
       "            sma_fast   sma_slow\n",
       "time                           \n",
       "2017-11-21  107.9315  101.28058\n",
       "2017-11-22  108.1045  101.35856\n",
       "2017-11-24  108.1355  101.42418\n",
       "2017-11-27  108.1420  101.49794\n",
       "2017-11-28  108.3630  101.58178"
      ]
     },
     "execution_count": 16,
     "metadata": {},
     "output_type": "execute_result"
    }
   ],
   "source": [
    "# Generate the X_train and y_train DataFrames\n",
    "X_train = X.loc[training_begin:training_end]\n",
    "y_train = y.loc[training_begin:training_end]\n",
    "\n",
    "# Display sample data\n",
    "X_train.head()"
   ]
  },
  {
   "cell_type": "code",
   "execution_count": 17,
   "id": "2e6a4f54-9bdb-496a-b60e-e2536cdde291",
   "metadata": {},
   "outputs": [
    {
     "data": {
      "text/html": [
       "<div>\n",
       "<style scoped>\n",
       "    .dataframe tbody tr th:only-of-type {\n",
       "        vertical-align: middle;\n",
       "    }\n",
       "\n",
       "    .dataframe tbody tr th {\n",
       "        vertical-align: top;\n",
       "    }\n",
       "\n",
       "    .dataframe thead th {\n",
       "        text-align: right;\n",
       "    }\n",
       "</style>\n",
       "<table border=\"1\" class=\"dataframe\">\n",
       "  <thead>\n",
       "    <tr style=\"text-align: right;\">\n",
       "      <th></th>\n",
       "      <th>sma_fast</th>\n",
       "      <th>sma_slow</th>\n",
       "    </tr>\n",
       "    <tr>\n",
       "      <th>time</th>\n",
       "      <th></th>\n",
       "      <th></th>\n",
       "    </tr>\n",
       "  </thead>\n",
       "  <tbody>\n",
       "    <tr>\n",
       "      <th>2018-02-21</th>\n",
       "      <td>108.1500</td>\n",
       "      <td>107.26244</td>\n",
       "    </tr>\n",
       "    <tr>\n",
       "      <th>2018-02-22</th>\n",
       "      <td>108.0895</td>\n",
       "      <td>107.32924</td>\n",
       "    </tr>\n",
       "    <tr>\n",
       "      <th>2018-02-23</th>\n",
       "      <td>108.5445</td>\n",
       "      <td>107.41274</td>\n",
       "    </tr>\n",
       "    <tr>\n",
       "      <th>2018-02-26</th>\n",
       "      <td>109.3440</td>\n",
       "      <td>107.49936</td>\n",
       "    </tr>\n",
       "    <tr>\n",
       "      <th>2018-02-27</th>\n",
       "      <td>109.8840</td>\n",
       "      <td>107.57574</td>\n",
       "    </tr>\n",
       "  </tbody>\n",
       "</table>\n",
       "</div>"
      ],
      "text/plain": [
       "            sma_fast   sma_slow\n",
       "time                           \n",
       "2018-02-21  108.1500  107.26244\n",
       "2018-02-22  108.0895  107.32924\n",
       "2018-02-23  108.5445  107.41274\n",
       "2018-02-26  109.3440  107.49936\n",
       "2018-02-27  109.8840  107.57574"
      ]
     },
     "execution_count": 17,
     "metadata": {},
     "output_type": "execute_result"
    }
   ],
   "source": [
    "# Generate the X_test and y_test DataFrames\n",
    "X_test = X.loc[training_end:]\n",
    "y_test = y.loc[training_end:]\n",
    "\n",
    "# Display sample data\n",
    "X_test.head()"
   ]
  },
  {
   "cell_type": "code",
   "execution_count": 18,
   "id": "863e7dd4-0cbb-44ad-96aa-68dad2ad0cec",
   "metadata": {},
   "outputs": [],
   "source": [
    "#STANDARDIZE\n",
    "# Imports\n",
    "from sklearn.preprocessing import StandardScaler"
   ]
  },
  {
   "cell_type": "code",
   "execution_count": 19,
   "id": "61d36065-c32a-413f-be17-d264500a230b",
   "metadata": {},
   "outputs": [],
   "source": [
    "# Create a StandardScaler instance\n",
    "scaler = StandardScaler()\n",
    " \n",
    "# Apply the scaler model to fit the X-train data\n",
    "X_scaler = scaler.fit(X_train)\n",
    " \n",
    "# Transform the X_train and X_test DataFrames using the X_scaler\n",
    "X_train_scaled = X_scaler.transform(X_train)\n",
    "X_test_scaled = X_scaler.transform(X_test)\n"
   ]
  },
  {
   "cell_type": "code",
   "execution_count": 20,
   "id": "3308d2bc-a57d-49ba-915c-33556a700824",
   "metadata": {},
   "outputs": [],
   "source": [
    "#SVM Modeling"
   ]
  },
  {
   "cell_type": "code",
   "execution_count": 21,
   "id": "4cf29175-4f58-47d1-9fa8-305e4b8aa48c",
   "metadata": {},
   "outputs": [],
   "source": [
    "# Imports\n",
    "from sklearn import svm\n",
    "from sklearn.metrics import classification_report"
   ]
  },
  {
   "cell_type": "code",
   "execution_count": 22,
   "id": "fdbc1f39-243c-4f91-9fe4-073e6426ca8c",
   "metadata": {},
   "outputs": [
    {
     "data": {
      "text/plain": [
       "array([ 1.,  1.,  1.,  1.,  1.,  1., -1., -1., -1., -1.])"
      ]
     },
     "execution_count": 22,
     "metadata": {},
     "output_type": "execute_result"
    }
   ],
   "source": [
    "# Create the classifier model\n",
    "svm_model = svm.SVC()\n",
    " \n",
    "# Fit the model to the data using X_train_scaled and y_train\n",
    "svm_model = svm_model.fit(X_train_scaled, y_train)\n",
    "\n",
    "# Use the trained model to predict the trading signals for the training data\n",
    "training_signal_predictions = svm_model.predict(X_train_scaled)\n",
    "\n",
    "# Display the sample predictions\n",
    "training_signal_predictions[:10]"
   ]
  },
  {
   "cell_type": "code",
   "execution_count": 23,
   "id": "cf51da78-26a1-4b55-b3c8-21d574ec6ec4",
   "metadata": {},
   "outputs": [
    {
     "name": "stdout",
     "output_type": "stream",
     "text": [
      "              precision    recall  f1-score   support\n",
      "\n",
      "        -1.0       0.57      0.65      0.61        31\n",
      "         1.0       0.59      0.52      0.55        31\n",
      "\n",
      "    accuracy                           0.58        62\n",
      "   macro avg       0.58      0.58      0.58        62\n",
      "weighted avg       0.58      0.58      0.58        62\n",
      "\n"
     ]
    }
   ],
   "source": [
    "# Evaluate the model using a classification report\n",
    "training_report = classification_report(y_train, training_signal_predictions)\n",
    "print(training_report)"
   ]
  },
  {
   "cell_type": "code",
   "execution_count": 24,
   "id": "34d02f41-a4da-42d6-b418-6d3eb526c7d6",
   "metadata": {},
   "outputs": [],
   "source": [
    "# Use the trained model to predict the trading signals for the testing data.\n",
    "testing_signal_predictions = svm_model.predict(X_test_scaled)"
   ]
  },
  {
   "cell_type": "code",
   "execution_count": 25,
   "id": "4c00f77b-8d61-451b-887b-fef06a77ded4",
   "metadata": {},
   "outputs": [
    {
     "name": "stdout",
     "output_type": "stream",
     "text": [
      "              precision    recall  f1-score   support\n",
      "\n",
      "        -1.0       0.44      1.00      0.61       492\n",
      "         1.0       0.00      0.00      0.00       620\n",
      "\n",
      "    accuracy                           0.44      1112\n",
      "   macro avg       0.22      0.50      0.31      1112\n",
      "weighted avg       0.20      0.44      0.27      1112\n",
      "\n"
     ]
    }
   ],
   "source": [
    "# Evaluate the model's ability to predict the trading signal for the testing data\n",
    "svm_testing_report = classification_report(y_test, testing_signal_predictions)\n",
    "print(svm_testing_report)"
   ]
  },
  {
   "cell_type": "code",
   "execution_count": 26,
   "id": "ea1f9d94-f163-44ce-9f29-af1459d15f3c",
   "metadata": {},
   "outputs": [
    {
     "data": {
      "text/html": [
       "<div>\n",
       "<style scoped>\n",
       "    .dataframe tbody tr th:only-of-type {\n",
       "        vertical-align: middle;\n",
       "    }\n",
       "\n",
       "    .dataframe tbody tr th {\n",
       "        vertical-align: top;\n",
       "    }\n",
       "\n",
       "    .dataframe thead th {\n",
       "        text-align: right;\n",
       "    }\n",
       "</style>\n",
       "<table border=\"1\" class=\"dataframe\">\n",
       "  <thead>\n",
       "    <tr style=\"text-align: right;\">\n",
       "      <th></th>\n",
       "      <th>predicted_signal</th>\n",
       "      <th>actual_returns</th>\n",
       "      <th>trading_algorithm_returns</th>\n",
       "    </tr>\n",
       "    <tr>\n",
       "      <th>time</th>\n",
       "      <th></th>\n",
       "      <th></th>\n",
       "      <th></th>\n",
       "    </tr>\n",
       "  </thead>\n",
       "  <tbody>\n",
       "    <tr>\n",
       "      <th>2018-02-21</th>\n",
       "      <td>-1.0</td>\n",
       "      <td>0.002132</td>\n",
       "      <td>-0.002132</td>\n",
       "    </tr>\n",
       "    <tr>\n",
       "      <th>2018-02-22</th>\n",
       "      <td>-1.0</td>\n",
       "      <td>0.000037</td>\n",
       "      <td>-0.000037</td>\n",
       "    </tr>\n",
       "    <tr>\n",
       "      <th>2018-02-23</th>\n",
       "      <td>-1.0</td>\n",
       "      <td>0.017980</td>\n",
       "      <td>-0.017980</td>\n",
       "    </tr>\n",
       "    <tr>\n",
       "      <th>2018-02-26</th>\n",
       "      <td>-1.0</td>\n",
       "      <td>0.009268</td>\n",
       "      <td>-0.009268</td>\n",
       "    </tr>\n",
       "    <tr>\n",
       "      <th>2018-02-27</th>\n",
       "      <td>-1.0</td>\n",
       "      <td>-0.007274</td>\n",
       "      <td>0.007274</td>\n",
       "    </tr>\n",
       "  </tbody>\n",
       "</table>\n",
       "</div>"
      ],
      "text/plain": [
       "            predicted_signal  actual_returns  trading_algorithm_returns\n",
       "time                                                                   \n",
       "2018-02-21              -1.0        0.002132                  -0.002132\n",
       "2018-02-22              -1.0        0.000037                  -0.000037\n",
       "2018-02-23              -1.0        0.017980                  -0.017980\n",
       "2018-02-26              -1.0        0.009268                  -0.009268\n",
       "2018-02-27              -1.0       -0.007274                   0.007274"
      ]
     },
     "execution_count": 26,
     "metadata": {},
     "output_type": "execute_result"
    }
   ],
   "source": [
    "# Create a new empty predictions DataFrame using code provided below.\n",
    "predictions_df = pd.DataFrame(index=X_test.index)\n",
    "predictions_df[\"predicted_signal\"] = testing_signal_predictions\n",
    "predictions_df[\"actual_returns\"] = trading_df[\"actual_returns\"]\n",
    "predictions_df[\"trading_algorithm_returns\"] = predictions_df[\"actual_returns\"] * predictions_df[\"predicted_signal\"]\n",
    "predictions_df.head()"
   ]
  },
  {
   "cell_type": "code",
   "execution_count": 27,
   "id": "b1f86b80-e50f-4db0-b576-d16b80f81c78",
   "metadata": {},
   "outputs": [
    {
     "data": {
      "text/plain": [
       "<AxesSubplot:xlabel='time'>"
      ]
     },
     "execution_count": 27,
     "metadata": {},
     "output_type": "execute_result"
    },
    {
     "data": {
      "image/png": "[encoded data removed]",
      "text/plain": [
       "<Figure size 432x288 with 1 Axes>"
      ]
     },
     "metadata": {
      "needs_background": "light"
     },
     "output_type": "display_data"
    }
   ],
   "source": [
    "# Calculate and plot the cumulative returns for the `actual_returns` and the `trading_algorithm_returns`\n",
    "(1 + predictions_df[[\"actual_returns\", \"trading_algorithm_returns\"]]).cumprod().plot()"
   ]
  },
  {
   "cell_type": "code",
   "execution_count": 28,
   "id": "33e1a342-16a8-4392-b80c-916c8d8745fc",
   "metadata": {},
   "outputs": [],
   "source": [
    "#LOGISTICREGRESSION\n",
    "# Import LogisticRegression from sklearn\n",
    "from sklearn.linear_model import LogisticRegression"
   ]
  },
  {
   "cell_type": "code",
   "execution_count": 29,
   "id": "dc0b3ea1-e9ad-4fa1-8dab-49311543396f",
   "metadata": {},
   "outputs": [],
   "source": [
    "# Create an instance of the LogisticRegression model\n",
    "logistic_regression_model = LogisticRegression()"
   ]
  },
  {
   "cell_type": "code",
   "execution_count": 30,
   "id": "19020f11-509d-4c96-998d-3ebec4a44d5e",
   "metadata": {},
   "outputs": [
    {
     "data": {
      "text/html": [
       "<style>#sk-container-id-1 {color: black;background-color: white;}#sk-container-id-1 pre{padding: 0;}#sk-container-id-1 div.sk-toggleable {background-color: white;}#sk-container-id-1 label.sk-toggleable__label {cursor: pointer;display: block;width: 100%;margin-bottom: 0;padding: 0.3em;box-sizing: border-box;text-align: center;}#sk-container-id-1 label.sk-toggleable__label-arrow:before {content: \"▸\";float: left;margin-right: 0.25em;color: #696969;}#sk-container-id-1 label.sk-toggleable__label-arrow:hover:before {color: black;}#sk-container-id-1 div.sk-estimator:hover label.sk-toggleable__label-arrow:before {color: black;}#sk-container-id-1 div.sk-toggleable__content {max-height: 0;max-width: 0;overflow: hidden;text-align: left;background-color: #f0f8ff;}#sk-container-id-1 div.sk-toggleable__content pre {margin: 0.2em;color: black;border-radius: 0.25em;background-color: #f0f8ff;}#sk-container-id-1 input.sk-toggleable__control:checked~div.sk-toggleable__content {max-height: 200px;max-width: 100%;overflow: auto;}#sk-container-id-1 input.sk-toggleable__control:checked~label.sk-toggleable__label-arrow:before {content: \"▾\";}#sk-container-id-1 div.sk-estimator input.sk-toggleable__control:checked~label.sk-toggleable__label {background-color: #d4ebff;}#sk-container-id-1 div.sk-label input.sk-toggleable__control:checked~label.sk-toggleable__label {background-color: #d4ebff;}#sk-container-id-1 input.sk-hidden--visually {border: 0;clip: rect(1px 1px 1px 1px);clip: rect(1px, 1px, 1px, 1px);height: 1px;margin: -1px;overflow: hidden;padding: 0;position: absolute;width: 1px;}#sk-container-id-1 div.sk-estimator {font-family: monospace;background-color: #f0f8ff;border: 1px dotted black;border-radius: 0.25em;box-sizing: border-box;margin-bottom: 0.5em;}#sk-container-id-1 div.sk-estimator:hover {background-color: #d4ebff;}#sk-container-id-1 div.sk-parallel-item::after {content: \"\";width: 100%;border-bottom: 1px solid gray;flex-grow: 1;}#sk-container-id-1 div.sk-label:hover label.sk-toggleable__label {background-color: #d4ebff;}#sk-container-id-1 div.sk-serial::before {content: \"\";position: absolute;border-left: 1px solid gray;box-sizing: border-box;top: 0;bottom: 0;left: 50%;z-index: 0;}#sk-container-id-1 div.sk-serial {display: flex;flex-direction: column;align-items: center;background-color: white;padding-right: 0.2em;padding-left: 0.2em;position: relative;}#sk-container-id-1 div.sk-item {position: relative;z-index: 1;}#sk-container-id-1 div.sk-parallel {display: flex;align-items: stretch;justify-content: center;background-color: white;position: relative;}#sk-container-id-1 div.sk-item::before, #sk-container-id-1 div.sk-parallel-item::before {content: \"\";position: absolute;border-left: 1px solid gray;box-sizing: border-box;top: 0;bottom: 0;left: 50%;z-index: -1;}#sk-container-id-1 div.sk-parallel-item {display: flex;flex-direction: column;z-index: 1;position: relative;background-color: white;}#sk-container-id-1 div.sk-parallel-item:first-child::after {align-self: flex-end;width: 50%;}#sk-container-id-1 div.sk-parallel-item:last-child::after {align-self: flex-start;width: 50%;}#sk-container-id-1 div.sk-parallel-item:only-child::after {width: 0;}#sk-container-id-1 div.sk-dashed-wrapped {border: 1px dashed gray;margin: 0 0.4em 0.5em 0.4em;box-sizing: border-box;padding-bottom: 0.4em;background-color: white;}#sk-container-id-1 div.sk-label label {font-family: monospace;font-weight: bold;display: inline-block;line-height: 1.2em;}#sk-container-id-1 div.sk-label-container {text-align: center;}#sk-container-id-1 div.sk-container {/* jupyter's `normalize.less` sets `[hidden] { display: none; }` but bootstrap.min.css set `[hidden] { display: none !important; }` so we also need the `!important` here to be able to override the default hidden behavior on the sphinx rendered scikit-learn.org. See: https://github.com/scikit-learn/scikit-learn/issues/21755 */display: inline-block !important;position: relative;}#sk-container-id-1 div.sk-text-repr-fallback {display: none;}</style><div id=\"sk-container-id-1\" class=\"sk-top-container\"><div class=\"sk-text-repr-fallback\"><pre>LogisticRegression()</pre><b>In a Jupyter environment, please rerun this cell to show the HTML representation or trust the notebook. <br />On GitHub, the HTML representation is unable to render, please try loading this page with nbviewer.org.</b></div><div class=\"sk-container\" hidden><div class=\"sk-item\"><div class=\"sk-estimator sk-toggleable\"><input class=\"sk-toggleable__control sk-hidden--visually\" id=\"sk-estimator-id-1\" type=\"checkbox\" checked><label for=\"sk-estimator-id-1\" class=\"sk-toggleable__label sk-toggleable__label-arrow\">LogisticRegression</label><div class=\"sk-toggleable__content\"><pre>LogisticRegression()</pre></div></div></div></div></div>"
      ],
      "text/plain": [
       "LogisticRegression()"
      ]
     },
     "execution_count": 30,
     "metadata": {},
     "output_type": "execute_result"
    }
   ],
   "source": [
    "# Fit the LogisticRegression model\n",
    "logistic_regression_model.fit(X_train_scaled, y_train)"
   ]
  },
  {
   "cell_type": "code",
   "execution_count": 31,
   "id": "4741bbc1-6c98-4da1-beb5-aef8e075a465",
   "metadata": {},
   "outputs": [
    {
     "data": {
      "text/plain": [
       "array([-1., -1., -1., -1., -1., -1., -1.,  1.,  1.,  1., -1.,  1.,  1.,\n",
       "        1.,  1.,  1.,  1.,  1.,  1.,  1.,  1.,  1.,  1., -1., -1., -1.,\n",
       "       -1., -1., -1., -1.,  1.,  1.,  1.,  1.,  1.,  1.,  1.,  1.,  1.,\n",
       "        1.,  1.,  1.,  1.,  1., -1., -1., -1., -1.,  1.,  1.,  1., -1.,\n",
       "       -1., -1., -1., -1., -1., -1., -1., -1.,  1.,  1.])"
      ]
     },
     "execution_count": 31,
     "metadata": {},
     "output_type": "execute_result"
    }
   ],
   "source": [
    "# Use the trained LogisticRegression model to predict the trading signals for the training data\n",
    "lr_training_signal_predictions = logistic_regression_model.predict(X_train_scaled)\n",
    "\n",
    "# Display the predictions\n",
    "lr_training_signal_predictions"
   ]
  },
  {
   "cell_type": "code",
   "execution_count": 32,
   "id": "f0a92dde-e79e-439b-b2c4-dba50e6b7b11",
   "metadata": {},
   "outputs": [
    {
     "name": "stdout",
     "output_type": "stream",
     "text": [
      "              precision    recall  f1-score   support\n",
      "\n",
      "        -1.0       0.46      0.42      0.44        31\n",
      "         1.0       0.47      0.52      0.49        31\n",
      "\n",
      "    accuracy                           0.47        62\n",
      "   macro avg       0.47      0.47      0.47        62\n",
      "weighted avg       0.47      0.47      0.47        62\n",
      "\n"
     ]
    }
   ],
   "source": [
    "# Generate a classification report using the training data and the logistic regression model's predications\n",
    "lr_training_report = classification_report(y_train, lr_training_signal_predictions)\n",
    "\n",
    "# Review the classification report\n",
    "print(lr_training_report)"
   ]
  },
  {
   "cell_type": "code",
   "execution_count": 33,
   "id": "e4a8f1fe-2a68-4995-85f0-28b1ee9b7c99",
   "metadata": {},
   "outputs": [],
   "source": [
    "# Use the trained model to predict the trading signals for the testing data.\n",
    "lr_testing_signal_predictions = logistic_regression_model.predict(X_test_scaled)"
   ]
  },
  {
   "cell_type": "code",
   "execution_count": 34,
   "id": "47c46a75-5910-4b0b-9f53-88c8e3aca660",
   "metadata": {},
   "outputs": [
    {
     "name": "stdout",
     "output_type": "stream",
     "text": [
      "              precision    recall  f1-score   support\n",
      "\n",
      "        -1.0       0.50      0.01      0.02       492\n",
      "         1.0       0.56      0.99      0.71       620\n",
      "\n",
      "    accuracy                           0.56      1112\n",
      "   macro avg       0.53      0.50      0.37      1112\n",
      "weighted avg       0.53      0.56      0.41      1112\n",
      "\n"
     ]
    }
   ],
   "source": [
    "# Generate a classification report using the testing data and the logistic regression model's predictions\n",
    "lr_testing_report = classification_report(y_test, lr_testing_signal_predictions)\n",
    "\n",
    "# Review the testing classification report\n",
    "print(lr_testing_report)"
   ]
  },
  {
   "cell_type": "code",
   "execution_count": 35,
   "id": "ebf42423-fe4d-4b65-b051-196f2fbef9e2",
   "metadata": {},
   "outputs": [
    {
     "name": "stdout",
     "output_type": "stream",
     "text": [
      "Logistic Regression Classification Report\n",
      "              precision    recall  f1-score   support\n",
      "\n",
      "        -1.0       0.50      0.01      0.02       492\n",
      "         1.0       0.56      0.99      0.71       620\n",
      "\n",
      "    accuracy                           0.56      1112\n",
      "   macro avg       0.53      0.50      0.37      1112\n",
      "weighted avg       0.53      0.56      0.41      1112\n",
      "\n"
     ]
    }
   ],
   "source": [
    "# Print the classification report for the Logistic Regression model using the test data\n",
    "print(\"Logistic Regression Classification Report\")\n",
    "print(lr_testing_report)"
   ]
  },
  {
   "cell_type": "code",
   "execution_count": 36,
   "id": "7e58dbc2-ca9d-4cac-a7c7-1686e5999c37",
   "metadata": {},
   "outputs": [
    {
     "name": "stdout",
     "output_type": "stream",
     "text": [
      "SVM Classification Report\n",
      "              precision    recall  f1-score   support\n",
      "\n",
      "        -1.0       0.44      1.00      0.61       492\n",
      "         1.0       0.00      0.00      0.00       620\n",
      "\n",
      "    accuracy                           0.44      1112\n",
      "   macro avg       0.22      0.50      0.31      1112\n",
      "weighted avg       0.20      0.44      0.27      1112\n",
      "\n"
     ]
    }
   ],
   "source": [
    "# Print the classification report for the SVM model using the test data\n",
    "print(\"SVM Classification Report\")\n",
    "print(svm_testing_report)"
   ]
  },
  {
   "cell_type": "code",
   "execution_count": null,
   "id": "529d50b8-3fbe-4606-9b3e-3bd0ec32e7c7",
   "metadata": {},
   "outputs": [],
   "source": []
  }
 ],
 "metadata": {
  "kernelspec": {
   "display_name": "Python 3 (ipykernel)",
   "language": "python",
   "name": "python3"
  },
  "language_info": {
   "codemirror_mode": {
    "name": "ipython",
    "version": 3
   },
   "file_extension": ".py",
   "mimetype": "text/x-python",
   "name": "python",
   "nbconvert_exporter": "python",
   "pygments_lexer": "ipython3",
   "version": "3.9.12"
  }
 },
 "nbformat": 4,
 "nbformat_minor": 5
}
