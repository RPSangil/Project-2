{
 "cells": [
  {
   "cell_type": "code",
   "execution_count": 1,
   "id": "de45006b-b9fd-460e-b514-8c613894954d",
   "metadata": {},
   "outputs": [],
   "source": [
    "# Import required libraries\n",
    "import pandas as pd\n",
    "from pathlib import Path\n",
    "from pandas.tseries.offsets import DateOffset\n",
    "import warnings\n",
    "warnings.filterwarnings(\"ignore\")\n"
   ]
  },
  {
   "cell_type": "code",
   "execution_count": 2,
   "id": "0f44e147-3e4c-4b3b-91b4-97f7e4b3387c",
   "metadata": {},
   "outputs": [],
   "source": [
    "trading_df = pd.read_csv(\n",
    "    Path(\"one_year_close&volume_2021_2022.csv\"), \n",
    "    index_col=\"time\", \n",
    "    infer_datetime_format=True, \n",
    "    parse_dates=True)\n"
   ]
  },
  {
   "cell_type": "code",
   "execution_count": 3,
   "id": "50bea2f0-3096-4a61-a917-7dab44e5f7be",
   "metadata": {},
   "outputs": [
    {
     "data": {
      "text/html": [
       "<div>\n",
       "<style scoped>\n",
       "    .dataframe tbody tr th:only-of-type {\n",
       "        vertical-align: middle;\n",
       "    }\n",
       "\n",
       "    .dataframe tbody tr th {\n",
       "        vertical-align: top;\n",
       "    }\n",
       "\n",
       "    .dataframe thead th {\n",
       "        text-align: right;\n",
       "    }\n",
       "</style>\n",
       "<table border=\"1\" class=\"dataframe\">\n",
       "  <thead>\n",
       "    <tr style=\"text-align: right;\">\n",
       "      <th></th>\n",
       "      <th>Asia_50_Costs</th>\n",
       "      <th>JP_Morgan_USD_Emerging_Markets_Bond_AUD_Hedged_E_Costs</th>\n",
       "      <th>MSCI_Emerging_Markets_Costs</th>\n",
       "      <th>iShares_MSCI_South_Korea_ETF_Volume</th>\n",
       "      <th>close</th>\n",
       "      <th>Asia_50_Volume</th>\n",
       "      <th>JP_Morgan_USD_Emerging_Markets_Bond_AUD_Hedged_E_Volume</th>\n",
       "      <th>MSCI_Emerging_Markets_Volume</th>\n",
       "      <th>iShares MSCI South Korea ETF</th>\n",
       "      <th>volume</th>\n",
       "    </tr>\n",
       "    <tr>\n",
       "      <th>time</th>\n",
       "      <th></th>\n",
       "      <th></th>\n",
       "      <th></th>\n",
       "      <th></th>\n",
       "      <th></th>\n",
       "      <th></th>\n",
       "      <th></th>\n",
       "      <th></th>\n",
       "      <th></th>\n",
       "      <th></th>\n",
       "    </tr>\n",
       "  </thead>\n",
       "  <tbody>\n",
       "    <tr>\n",
       "      <th>2021-06-30</th>\n",
       "      <td>122.51</td>\n",
       "      <td>101.64</td>\n",
       "      <td>73.74</td>\n",
       "      <td>124.50</td>\n",
       "      <td>105.5975</td>\n",
       "      <td>7,339,280.00</td>\n",
       "      <td>450,833.00</td>\n",
       "      <td>13,790,240.00</td>\n",
       "      <td>817,950.00</td>\n",
       "      <td>5,599,575.75</td>\n",
       "    </tr>\n",
       "    <tr>\n",
       "      <th>2021-07-01</th>\n",
       "      <td>122.51</td>\n",
       "      <td>101.64</td>\n",
       "      <td>73.74</td>\n",
       "      <td>124.50</td>\n",
       "      <td>105.5975</td>\n",
       "      <td>7,339,280.00</td>\n",
       "      <td>450,833.00</td>\n",
       "      <td>13,798,640.00</td>\n",
       "      <td>818,763.00</td>\n",
       "      <td>5,601,879.00</td>\n",
       "    </tr>\n",
       "    <tr>\n",
       "      <th>2021-07-02</th>\n",
       "      <td>121.32</td>\n",
       "      <td>100.23</td>\n",
       "      <td>73.13</td>\n",
       "      <td>124.85</td>\n",
       "      <td>104.8825</td>\n",
       "      <td>7,348,226.00</td>\n",
       "      <td>451,669.00</td>\n",
       "      <td>13,821,162.00</td>\n",
       "      <td>820,963.00</td>\n",
       "      <td>5,610,505.00</td>\n",
       "    </tr>\n",
       "    <tr>\n",
       "      <th>2021-07-05</th>\n",
       "      <td>120.54</td>\n",
       "      <td>100.27</td>\n",
       "      <td>72.92</td>\n",
       "      <td>124.18</td>\n",
       "      <td>104.4775</td>\n",
       "      <td>7,348,226.00</td>\n",
       "      <td>451,669.00</td>\n",
       "      <td>13,678,362.00</td>\n",
       "      <td>822,063.00</td>\n",
       "      <td>5,575,080.00</td>\n",
       "    </tr>\n",
       "    <tr>\n",
       "      <th>2021-07-06</th>\n",
       "      <td>119.89</td>\n",
       "      <td>100.28</td>\n",
       "      <td>72.53</td>\n",
       "      <td>123.76</td>\n",
       "      <td>104.1150</td>\n",
       "      <td>7,348,226.00</td>\n",
       "      <td>451,669.00</td>\n",
       "      <td>13,678,362.00</td>\n",
       "      <td>821,290.00</td>\n",
       "      <td>5,574,886.75</td>\n",
       "    </tr>\n",
       "  </tbody>\n",
       "</table>\n",
       "</div>"
      ],
      "text/plain": [
       "            Asia_50_Costs  \\\n",
       "time                        \n",
       "2021-06-30         122.51   \n",
       "2021-07-01         122.51   \n",
       "2021-07-02         121.32   \n",
       "2021-07-05         120.54   \n",
       "2021-07-06         119.89   \n",
       "\n",
       "            JP_Morgan_USD_Emerging_Markets_Bond_AUD_Hedged_E_Costs  \\\n",
       "time                                                                 \n",
       "2021-06-30                                             101.64        \n",
       "2021-07-01                                             101.64        \n",
       "2021-07-02                                             100.23        \n",
       "2021-07-05                                             100.27        \n",
       "2021-07-06                                             100.28        \n",
       "\n",
       "            MSCI_Emerging_Markets_Costs  iShares_MSCI_South_Korea_ETF_Volume  \\\n",
       "time                                                                           \n",
       "2021-06-30                        73.74                               124.50   \n",
       "2021-07-01                        73.74                               124.50   \n",
       "2021-07-02                        73.13                               124.85   \n",
       "2021-07-05                        72.92                               124.18   \n",
       "2021-07-06                        72.53                               123.76   \n",
       "\n",
       "               close Asia_50_Volume  \\\n",
       "time                                  \n",
       "2021-06-30  105.5975   7,339,280.00   \n",
       "2021-07-01  105.5975   7,339,280.00   \n",
       "2021-07-02  104.8825   7,348,226.00   \n",
       "2021-07-05  104.4775   7,348,226.00   \n",
       "2021-07-06  104.1150   7,348,226.00   \n",
       "\n",
       "           JP_Morgan_USD_Emerging_Markets_Bond_AUD_Hedged_E_Volume  \\\n",
       "time                                                                 \n",
       "2021-06-30                                         450,833.00        \n",
       "2021-07-01                                         450,833.00        \n",
       "2021-07-02                                         451,669.00        \n",
       "2021-07-05                                         451,669.00        \n",
       "2021-07-06                                         451,669.00        \n",
       "\n",
       "           MSCI_Emerging_Markets_Volume iShares MSCI South Korea ETF  \\\n",
       "time                                                                   \n",
       "2021-06-30                13,790,240.00                   817,950.00   \n",
       "2021-07-01                13,798,640.00                   818,763.00   \n",
       "2021-07-02                13,821,162.00                   820,963.00   \n",
       "2021-07-05                13,678,362.00                   822,063.00   \n",
       "2021-07-06                13,678,362.00                   821,290.00   \n",
       "\n",
       "                  volume  \n",
       "time                      \n",
       "2021-06-30  5,599,575.75  \n",
       "2021-07-01  5,601,879.00  \n",
       "2021-07-02  5,610,505.00  \n",
       "2021-07-05  5,575,080.00  \n",
       "2021-07-06  5,574,886.75  "
      ]
     },
     "execution_count": 3,
     "metadata": {},
     "output_type": "execute_result"
    }
   ],
   "source": [
    "# Review the Data-Frame\n",
    "trading_df.head()"
   ]
  },
  {
   "cell_type": "code",
   "execution_count": 4,
   "id": "692e56aa-2cf5-454d-b9b9-9b806b9643f4",
   "metadata": {},
   "outputs": [
    {
     "data": {
      "text/html": [
       "<div>\n",
       "<style scoped>\n",
       "    .dataframe tbody tr th:only-of-type {\n",
       "        vertical-align: middle;\n",
       "    }\n",
       "\n",
       "    .dataframe tbody tr th {\n",
       "        vertical-align: top;\n",
       "    }\n",
       "\n",
       "    .dataframe thead th {\n",
       "        text-align: right;\n",
       "    }\n",
       "</style>\n",
       "<table border=\"1\" class=\"dataframe\">\n",
       "  <thead>\n",
       "    <tr style=\"text-align: right;\">\n",
       "      <th></th>\n",
       "      <th>Asia_50_Costs</th>\n",
       "      <th>JP_Morgan_USD_Emerging_Markets_Bond_AUD_Hedged_E_Costs</th>\n",
       "      <th>MSCI_Emerging_Markets_Costs</th>\n",
       "      <th>iShares_MSCI_South_Korea_ETF_Volume</th>\n",
       "      <th>close</th>\n",
       "      <th>Asia_50_Volume</th>\n",
       "      <th>JP_Morgan_USD_Emerging_Markets_Bond_AUD_Hedged_E_Volume</th>\n",
       "      <th>MSCI_Emerging_Markets_Volume</th>\n",
       "      <th>iShares MSCI South Korea ETF</th>\n",
       "      <th>volume</th>\n",
       "      <th>actual_returns</th>\n",
       "    </tr>\n",
       "    <tr>\n",
       "      <th>time</th>\n",
       "      <th></th>\n",
       "      <th></th>\n",
       "      <th></th>\n",
       "      <th></th>\n",
       "      <th></th>\n",
       "      <th></th>\n",
       "      <th></th>\n",
       "      <th></th>\n",
       "      <th></th>\n",
       "      <th></th>\n",
       "      <th></th>\n",
       "    </tr>\n",
       "  </thead>\n",
       "  <tbody>\n",
       "    <tr>\n",
       "      <th>2021-07-01</th>\n",
       "      <td>122.51</td>\n",
       "      <td>101.64</td>\n",
       "      <td>73.74</td>\n",
       "      <td>124.50</td>\n",
       "      <td>105.5975</td>\n",
       "      <td>7,339,280.00</td>\n",
       "      <td>450,833.00</td>\n",
       "      <td>13,798,640.00</td>\n",
       "      <td>818,763.00</td>\n",
       "      <td>5,601,879.00</td>\n",
       "      <td>0.000000</td>\n",
       "    </tr>\n",
       "    <tr>\n",
       "      <th>2021-07-02</th>\n",
       "      <td>121.32</td>\n",
       "      <td>100.23</td>\n",
       "      <td>73.13</td>\n",
       "      <td>124.85</td>\n",
       "      <td>104.8825</td>\n",
       "      <td>7,348,226.00</td>\n",
       "      <td>451,669.00</td>\n",
       "      <td>13,821,162.00</td>\n",
       "      <td>820,963.00</td>\n",
       "      <td>5,610,505.00</td>\n",
       "      <td>-0.006771</td>\n",
       "    </tr>\n",
       "    <tr>\n",
       "      <th>2021-07-05</th>\n",
       "      <td>120.54</td>\n",
       "      <td>100.27</td>\n",
       "      <td>72.92</td>\n",
       "      <td>124.18</td>\n",
       "      <td>104.4775</td>\n",
       "      <td>7,348,226.00</td>\n",
       "      <td>451,669.00</td>\n",
       "      <td>13,678,362.00</td>\n",
       "      <td>822,063.00</td>\n",
       "      <td>5,575,080.00</td>\n",
       "      <td>-0.003861</td>\n",
       "    </tr>\n",
       "    <tr>\n",
       "      <th>2021-07-06</th>\n",
       "      <td>119.89</td>\n",
       "      <td>100.28</td>\n",
       "      <td>72.53</td>\n",
       "      <td>123.76</td>\n",
       "      <td>104.1150</td>\n",
       "      <td>7,348,226.00</td>\n",
       "      <td>451,669.00</td>\n",
       "      <td>13,678,362.00</td>\n",
       "      <td>821,290.00</td>\n",
       "      <td>5,574,886.75</td>\n",
       "      <td>-0.003470</td>\n",
       "    </tr>\n",
       "    <tr>\n",
       "      <th>2021-07-07</th>\n",
       "      <td>118.62</td>\n",
       "      <td>100.29</td>\n",
       "      <td>71.55</td>\n",
       "      <td>123.16</td>\n",
       "      <td>103.4050</td>\n",
       "      <td>7,347,506.00</td>\n",
       "      <td>451,003.00</td>\n",
       "      <td>13,668,045.00</td>\n",
       "      <td>822,390.00</td>\n",
       "      <td>5,572,236.00</td>\n",
       "      <td>-0.006819</td>\n",
       "    </tr>\n",
       "  </tbody>\n",
       "</table>\n",
       "</div>"
      ],
      "text/plain": [
       "            Asia_50_Costs  \\\n",
       "time                        \n",
       "2021-07-01         122.51   \n",
       "2021-07-02         121.32   \n",
       "2021-07-05         120.54   \n",
       "2021-07-06         119.89   \n",
       "2021-07-07         118.62   \n",
       "\n",
       "            JP_Morgan_USD_Emerging_Markets_Bond_AUD_Hedged_E_Costs  \\\n",
       "time                                                                 \n",
       "2021-07-01                                             101.64        \n",
       "2021-07-02                                             100.23        \n",
       "2021-07-05                                             100.27        \n",
       "2021-07-06                                             100.28        \n",
       "2021-07-07                                             100.29        \n",
       "\n",
       "            MSCI_Emerging_Markets_Costs  iShares_MSCI_South_Korea_ETF_Volume  \\\n",
       "time                                                                           \n",
       "2021-07-01                        73.74                               124.50   \n",
       "2021-07-02                        73.13                               124.85   \n",
       "2021-07-05                        72.92                               124.18   \n",
       "2021-07-06                        72.53                               123.76   \n",
       "2021-07-07                        71.55                               123.16   \n",
       "\n",
       "               close Asia_50_Volume  \\\n",
       "time                                  \n",
       "2021-07-01  105.5975   7,339,280.00   \n",
       "2021-07-02  104.8825   7,348,226.00   \n",
       "2021-07-05  104.4775   7,348,226.00   \n",
       "2021-07-06  104.1150   7,348,226.00   \n",
       "2021-07-07  103.4050   7,347,506.00   \n",
       "\n",
       "           JP_Morgan_USD_Emerging_Markets_Bond_AUD_Hedged_E_Volume  \\\n",
       "time                                                                 \n",
       "2021-07-01                                         450,833.00        \n",
       "2021-07-02                                         451,669.00        \n",
       "2021-07-05                                         451,669.00        \n",
       "2021-07-06                                         451,669.00        \n",
       "2021-07-07                                         451,003.00        \n",
       "\n",
       "           MSCI_Emerging_Markets_Volume iShares MSCI South Korea ETF  \\\n",
       "time                                                                   \n",
       "2021-07-01                13,798,640.00                   818,763.00   \n",
       "2021-07-02                13,821,162.00                   820,963.00   \n",
       "2021-07-05                13,678,362.00                   822,063.00   \n",
       "2021-07-06                13,678,362.00                   821,290.00   \n",
       "2021-07-07                13,668,045.00                   822,390.00   \n",
       "\n",
       "                  volume  actual_returns  \n",
       "time                                      \n",
       "2021-07-01  5,601,879.00        0.000000  \n",
       "2021-07-02  5,610,505.00       -0.006771  \n",
       "2021-07-05  5,575,080.00       -0.003861  \n",
       "2021-07-06  5,574,886.75       -0.003470  \n",
       "2021-07-07  5,572,236.00       -0.006819  "
      ]
     },
     "metadata": {},
     "output_type": "display_data"
    },
    {
     "data": {
      "text/html": [
       "<div>\n",
       "<style scoped>\n",
       "    .dataframe tbody tr th:only-of-type {\n",
       "        vertical-align: middle;\n",
       "    }\n",
       "\n",
       "    .dataframe tbody tr th {\n",
       "        vertical-align: top;\n",
       "    }\n",
       "\n",
       "    .dataframe thead th {\n",
       "        text-align: right;\n",
       "    }\n",
       "</style>\n",
       "<table border=\"1\" class=\"dataframe\">\n",
       "  <thead>\n",
       "    <tr style=\"text-align: right;\">\n",
       "      <th></th>\n",
       "      <th>Asia_50_Costs</th>\n",
       "      <th>JP_Morgan_USD_Emerging_Markets_Bond_AUD_Hedged_E_Costs</th>\n",
       "      <th>MSCI_Emerging_Markets_Costs</th>\n",
       "      <th>iShares_MSCI_South_Korea_ETF_Volume</th>\n",
       "      <th>close</th>\n",
       "      <th>Asia_50_Volume</th>\n",
       "      <th>JP_Morgan_USD_Emerging_Markets_Bond_AUD_Hedged_E_Volume</th>\n",
       "      <th>MSCI_Emerging_Markets_Volume</th>\n",
       "      <th>iShares MSCI South Korea ETF</th>\n",
       "      <th>volume</th>\n",
       "      <th>actual_returns</th>\n",
       "    </tr>\n",
       "    <tr>\n",
       "      <th>time</th>\n",
       "      <th></th>\n",
       "      <th></th>\n",
       "      <th></th>\n",
       "      <th></th>\n",
       "      <th></th>\n",
       "      <th></th>\n",
       "      <th></th>\n",
       "      <th></th>\n",
       "      <th></th>\n",
       "      <th></th>\n",
       "      <th></th>\n",
       "    </tr>\n",
       "  </thead>\n",
       "  <tbody>\n",
       "    <tr>\n",
       "      <th>2022-06-24</th>\n",
       "      <td>90.57</td>\n",
       "      <td>77.80</td>\n",
       "      <td>57.73</td>\n",
       "      <td>87.78</td>\n",
       "      <td>78.4700</td>\n",
       "      <td>7,700,017.00</td>\n",
       "      <td>481,182.00</td>\n",
       "      <td>14,171,932.00</td>\n",
       "      <td>786,090.00</td>\n",
       "      <td>5,784,805.25</td>\n",
       "      <td>0.013562</td>\n",
       "    </tr>\n",
       "    <tr>\n",
       "      <th>2022-06-27</th>\n",
       "      <td>92.61</td>\n",
       "      <td>78.16</td>\n",
       "      <td>58.86</td>\n",
       "      <td>87.80</td>\n",
       "      <td>79.3575</td>\n",
       "      <td>7,694,217.00</td>\n",
       "      <td>481,182.00</td>\n",
       "      <td>14,171,932.00</td>\n",
       "      <td>786,090.00</td>\n",
       "      <td>5,783,355.25</td>\n",
       "      <td>0.011310</td>\n",
       "    </tr>\n",
       "    <tr>\n",
       "      <th>2022-06-28</th>\n",
       "      <td>92.95</td>\n",
       "      <td>77.40</td>\n",
       "      <td>58.96</td>\n",
       "      <td>87.40</td>\n",
       "      <td>79.1775</td>\n",
       "      <td>7,682,617.00</td>\n",
       "      <td>481,182.00</td>\n",
       "      <td>14,171,932.00</td>\n",
       "      <td>786,090.00</td>\n",
       "      <td>5,780,455.25</td>\n",
       "      <td>-0.002268</td>\n",
       "    </tr>\n",
       "    <tr>\n",
       "      <th>2022-06-29</th>\n",
       "      <td>92.41</td>\n",
       "      <td>76.42</td>\n",
       "      <td>58.77</td>\n",
       "      <td>86.61</td>\n",
       "      <td>78.5525</td>\n",
       "      <td>7,676,817.00</td>\n",
       "      <td>481,182.00</td>\n",
       "      <td>14,180,332.00</td>\n",
       "      <td>786,090.00</td>\n",
       "      <td>5,781,105.25</td>\n",
       "      <td>-0.007894</td>\n",
       "    </tr>\n",
       "    <tr>\n",
       "      <th>2022-06-30</th>\n",
       "      <td>92.55</td>\n",
       "      <td>76.40</td>\n",
       "      <td>58.91</td>\n",
       "      <td>86.67</td>\n",
       "      <td>78.6325</td>\n",
       "      <td>7,671,017.00</td>\n",
       "      <td>481,182.00</td>\n",
       "      <td>14,188,732.00</td>\n",
       "      <td>786,090.00</td>\n",
       "      <td>5,781,755.25</td>\n",
       "      <td>0.001018</td>\n",
       "    </tr>\n",
       "  </tbody>\n",
       "</table>\n",
       "</div>"
      ],
      "text/plain": [
       "            Asia_50_Costs  \\\n",
       "time                        \n",
       "2022-06-24          90.57   \n",
       "2022-06-27          92.61   \n",
       "2022-06-28          92.95   \n",
       "2022-06-29          92.41   \n",
       "2022-06-30          92.55   \n",
       "\n",
       "            JP_Morgan_USD_Emerging_Markets_Bond_AUD_Hedged_E_Costs  \\\n",
       "time                                                                 \n",
       "2022-06-24                                              77.80        \n",
       "2022-06-27                                              78.16        \n",
       "2022-06-28                                              77.40        \n",
       "2022-06-29                                              76.42        \n",
       "2022-06-30                                              76.40        \n",
       "\n",
       "            MSCI_Emerging_Markets_Costs  iShares_MSCI_South_Korea_ETF_Volume  \\\n",
       "time                                                                           \n",
       "2022-06-24                        57.73                                87.78   \n",
       "2022-06-27                        58.86                                87.80   \n",
       "2022-06-28                        58.96                                87.40   \n",
       "2022-06-29                        58.77                                86.61   \n",
       "2022-06-30                        58.91                                86.67   \n",
       "\n",
       "              close Asia_50_Volume  \\\n",
       "time                                 \n",
       "2022-06-24  78.4700   7,700,017.00   \n",
       "2022-06-27  79.3575   7,694,217.00   \n",
       "2022-06-28  79.1775   7,682,617.00   \n",
       "2022-06-29  78.5525   7,676,817.00   \n",
       "2022-06-30  78.6325   7,671,017.00   \n",
       "\n",
       "           JP_Morgan_USD_Emerging_Markets_Bond_AUD_Hedged_E_Volume  \\\n",
       "time                                                                 \n",
       "2022-06-24                                         481,182.00        \n",
       "2022-06-27                                         481,182.00        \n",
       "2022-06-28                                         481,182.00        \n",
       "2022-06-29                                         481,182.00        \n",
       "2022-06-30                                         481,182.00        \n",
       "\n",
       "           MSCI_Emerging_Markets_Volume iShares MSCI South Korea ETF  \\\n",
       "time                                                                   \n",
       "2022-06-24                14,171,932.00                   786,090.00   \n",
       "2022-06-27                14,171,932.00                   786,090.00   \n",
       "2022-06-28                14,171,932.00                   786,090.00   \n",
       "2022-06-29                14,180,332.00                   786,090.00   \n",
       "2022-06-30                14,188,732.00                   786,090.00   \n",
       "\n",
       "                  volume  actual_returns  \n",
       "time                                      \n",
       "2022-06-24  5,784,805.25        0.013562  \n",
       "2022-06-27  5,783,355.25        0.011310  \n",
       "2022-06-28  5,780,455.25       -0.002268  \n",
       "2022-06-29  5,781,105.25       -0.007894  \n",
       "2022-06-30  5,781,755.25        0.001018  "
      ]
     },
     "metadata": {},
     "output_type": "display_data"
    }
   ],
   "source": [
    "# Calculate the daily returns using the closing prices and the pct_change function\n",
    "trading_df[\"actual_returns\"] = trading_df[\"close\"].pct_change()\n",
    "\n",
    "# Drop all NaN values from the DataFrame\n",
    "trading_df = trading_df.dropna()\n",
    "\n",
    "# Review the DataFrame\n",
    "display(trading_df.head())\n",
    "display(trading_df.tail())"
   ]
  },
  {
   "cell_type": "code",
   "execution_count": 5,
   "id": "971e311e-41bc-460d-8205-35cdd04883e0",
   "metadata": {},
   "outputs": [],
   "source": [
    "# Define a window size of 4\n",
    "short_window = 4\n",
    "\n",
    "# Create a simple moving average (SMA) using the short_window and assign this to a new columns called sma_fast\n",
    "trading_df[\"sma_fast\"] = trading_df[\"close\"].rolling(window=short_window).mean()"
   ]
  },
  {
   "cell_type": "code",
   "execution_count": 6,
   "id": "12a2ccfe-a0fa-457a-8170-123ed5aa4a55",
   "metadata": {},
   "outputs": [],
   "source": [
    "# Define a window size of 100\n",
    "long_window = 100\n",
    "\n",
    "# Create a simple moving average (SMA) using the long_window and assign this to a new columns called sma_slow\n",
    "trading_df[\"sma_slow\"] = trading_df[\"close\"].rolling(window=long_window).mean()"
   ]
  },
  {
   "cell_type": "code",
   "execution_count": 7,
   "id": "bfd020eb-9b78-4213-98e3-2b59f06ee294",
   "metadata": {},
   "outputs": [],
   "source": [
    "# Drop the NaNs using dropna()\n",
    "trading_df = trading_df.dropna()"
   ]
  },
  {
   "cell_type": "code",
   "execution_count": 8,
   "id": "5b61059c-549e-4fba-84e5-6d6b507b2a58",
   "metadata": {},
   "outputs": [
    {
     "data": {
      "text/html": [
       "<div>\n",
       "<style scoped>\n",
       "    .dataframe tbody tr th:only-of-type {\n",
       "        vertical-align: middle;\n",
       "    }\n",
       "\n",
       "    .dataframe tbody tr th {\n",
       "        vertical-align: top;\n",
       "    }\n",
       "\n",
       "    .dataframe thead th {\n",
       "        text-align: right;\n",
       "    }\n",
       "</style>\n",
       "<table border=\"1\" class=\"dataframe\">\n",
       "  <thead>\n",
       "    <tr style=\"text-align: right;\">\n",
       "      <th></th>\n",
       "      <th>sma_fast</th>\n",
       "      <th>sma_slow</th>\n",
       "    </tr>\n",
       "    <tr>\n",
       "      <th>time</th>\n",
       "      <th></th>\n",
       "      <th></th>\n",
       "    </tr>\n",
       "  </thead>\n",
       "  <tbody>\n",
       "    <tr>\n",
       "      <th>2021-11-17</th>\n",
       "      <td>97.355000</td>\n",
       "      <td>99.416525</td>\n",
       "    </tr>\n",
       "    <tr>\n",
       "      <th>2021-11-18</th>\n",
       "      <td>97.313750</td>\n",
       "      <td>99.332800</td>\n",
       "    </tr>\n",
       "    <tr>\n",
       "      <th>2021-11-19</th>\n",
       "      <td>97.185000</td>\n",
       "      <td>99.252500</td>\n",
       "    </tr>\n",
       "    <tr>\n",
       "      <th>2021-11-22</th>\n",
       "      <td>97.260000</td>\n",
       "      <td>99.182900</td>\n",
       "    </tr>\n",
       "    <tr>\n",
       "      <th>2021-11-23</th>\n",
       "      <td>97.173125</td>\n",
       "      <td>99.112725</td>\n",
       "    </tr>\n",
       "  </tbody>\n",
       "</table>\n",
       "</div>"
      ],
      "text/plain": [
       "             sma_fast   sma_slow\n",
       "time                            \n",
       "2021-11-17  97.355000  99.416525\n",
       "2021-11-18  97.313750  99.332800\n",
       "2021-11-19  97.185000  99.252500\n",
       "2021-11-22  97.260000  99.182900\n",
       "2021-11-23  97.173125  99.112725"
      ]
     },
     "metadata": {},
     "output_type": "display_data"
    },
    {
     "data": {
      "text/html": [
       "<div>\n",
       "<style scoped>\n",
       "    .dataframe tbody tr th:only-of-type {\n",
       "        vertical-align: middle;\n",
       "    }\n",
       "\n",
       "    .dataframe tbody tr th {\n",
       "        vertical-align: top;\n",
       "    }\n",
       "\n",
       "    .dataframe thead th {\n",
       "        text-align: right;\n",
       "    }\n",
       "</style>\n",
       "<table border=\"1\" class=\"dataframe\">\n",
       "  <thead>\n",
       "    <tr style=\"text-align: right;\">\n",
       "      <th></th>\n",
       "      <th>sma_fast</th>\n",
       "      <th>sma_slow</th>\n",
       "    </tr>\n",
       "    <tr>\n",
       "      <th>time</th>\n",
       "      <th></th>\n",
       "      <th></th>\n",
       "    </tr>\n",
       "  </thead>\n",
       "  <tbody>\n",
       "    <tr>\n",
       "      <th>2022-06-24</th>\n",
       "      <td>77.969375</td>\n",
       "      <td>84.264375</td>\n",
       "    </tr>\n",
       "    <tr>\n",
       "      <th>2022-06-27</th>\n",
       "      <td>78.322500</td>\n",
       "      <td>84.111800</td>\n",
       "    </tr>\n",
       "    <tr>\n",
       "      <th>2022-06-28</th>\n",
       "      <td>78.606250</td>\n",
       "      <td>83.956975</td>\n",
       "    </tr>\n",
       "    <tr>\n",
       "      <th>2022-06-29</th>\n",
       "      <td>78.889375</td>\n",
       "      <td>83.802200</td>\n",
       "    </tr>\n",
       "    <tr>\n",
       "      <th>2022-06-30</th>\n",
       "      <td>78.930000</td>\n",
       "      <td>83.650400</td>\n",
       "    </tr>\n",
       "  </tbody>\n",
       "</table>\n",
       "</div>"
      ],
      "text/plain": [
       "             sma_fast   sma_slow\n",
       "time                            \n",
       "2022-06-24  77.969375  84.264375\n",
       "2022-06-27  78.322500  84.111800\n",
       "2022-06-28  78.606250  83.956975\n",
       "2022-06-29  78.889375  83.802200\n",
       "2022-06-30  78.930000  83.650400"
      ]
     },
     "metadata": {},
     "output_type": "display_data"
    }
   ],
   "source": [
    "# Assign a copy of the sma_fast and sma_slow columns to a new DataFrame called X\n",
    "X = trading_df[[\"sma_fast\", \"sma_slow\"]].copy()\n",
    "\n",
    "# Display sample data\n",
    "display(X.head())\n",
    "display(X.tail())"
   ]
  },
  {
   "cell_type": "code",
   "execution_count": 9,
   "id": "3b0552c7-a22b-462e-bbd1-d78fa0119e32",
   "metadata": {},
   "outputs": [],
   "source": [
    "# Create a new column in the trading_df called signal setting its value to zero.\n",
    "trading_df[\"signal\"] = 0.0"
   ]
  },
  {
   "cell_type": "code",
   "execution_count": 10,
   "id": "f2e5bb22-b5d7-4290-8166-46ee5f99a764",
   "metadata": {},
   "outputs": [],
   "source": [
    "# Create the signal to buy\n",
    "trading_df.loc[(trading_df[\"actual_returns\"] >= 0), \"signal\"] = 1"
   ]
  },
  {
   "cell_type": "code",
   "execution_count": 11,
   "id": "553314eb-cacc-4cb2-8d76-2353266ad3a1",
   "metadata": {},
   "outputs": [],
   "source": [
    "# Create the signal to sell\n",
    "trading_df.loc[(trading_df[\"actual_returns\"] < 0), \"signal\"] = -1"
   ]
  },
  {
   "cell_type": "code",
   "execution_count": 12,
   "id": "5faf716c-816c-4960-8358-f406495d4dbd",
   "metadata": {},
   "outputs": [],
   "source": [
    "# Copy the new signal column to a new Series called y.\n",
    "y = trading_df[\"signal\"].copy()"
   ]
  },
  {
   "cell_type": "code",
   "execution_count": 13,
   "id": "f76db1fb-af86-434f-ae94-693ac5c0f8ff",
   "metadata": {},
   "outputs": [],
   "source": [
    "#TEST&SPLIT"
   ]
  },
  {
   "cell_type": "code",
   "execution_count": 14,
   "id": "ae191573-8fc7-49ed-b4f8-03b62a90471e",
   "metadata": {},
   "outputs": [
    {
     "name": "stdout",
     "output_type": "stream",
     "text": [
      "2021-11-17 00:00:00\n"
     ]
    }
   ],
   "source": [
    "# Select the start of the training period\n",
    "training_begin =  X.index.min()\n",
    "\n",
    "# Display the training begin date\n",
    "print(training_begin)"
   ]
  },
  {
   "cell_type": "code",
   "execution_count": 15,
   "id": "17895770-3bff-4f39-af86-0632012870cc",
   "metadata": {},
   "outputs": [
    {
     "name": "stdout",
     "output_type": "stream",
     "text": [
      "2022-02-17 00:00:00\n"
     ]
    }
   ],
   "source": [
    "# Select the ending period for the training data with an offset of 3 months\n",
    "training_end = X.index.min() + DateOffset(months=3)\n",
    "X.index.min() + DateOffset(months=3)\n",
    "# Display the training end date\n",
    "print(training_end)"
   ]
  },
  {
   "cell_type": "code",
   "execution_count": 16,
   "id": "50e1dd33-3579-459f-a9b7-588f1ead67dc",
   "metadata": {},
   "outputs": [
    {
     "data": {
      "text/html": [
       "<div>\n",
       "<style scoped>\n",
       "    .dataframe tbody tr th:only-of-type {\n",
       "        vertical-align: middle;\n",
       "    }\n",
       "\n",
       "    .dataframe tbody tr th {\n",
       "        vertical-align: top;\n",
       "    }\n",
       "\n",
       "    .dataframe thead th {\n",
       "        text-align: right;\n",
       "    }\n",
       "</style>\n",
       "<table border=\"1\" class=\"dataframe\">\n",
       "  <thead>\n",
       "    <tr style=\"text-align: right;\">\n",
       "      <th></th>\n",
       "      <th>sma_fast</th>\n",
       "      <th>sma_slow</th>\n",
       "    </tr>\n",
       "    <tr>\n",
       "      <th>time</th>\n",
       "      <th></th>\n",
       "      <th></th>\n",
       "    </tr>\n",
       "  </thead>\n",
       "  <tbody>\n",
       "    <tr>\n",
       "      <th>2021-11-17</th>\n",
       "      <td>97.355000</td>\n",
       "      <td>99.416525</td>\n",
       "    </tr>\n",
       "    <tr>\n",
       "      <th>2021-11-18</th>\n",
       "      <td>97.313750</td>\n",
       "      <td>99.332800</td>\n",
       "    </tr>\n",
       "    <tr>\n",
       "      <th>2021-11-19</th>\n",
       "      <td>97.185000</td>\n",
       "      <td>99.252500</td>\n",
       "    </tr>\n",
       "    <tr>\n",
       "      <th>2021-11-22</th>\n",
       "      <td>97.260000</td>\n",
       "      <td>99.182900</td>\n",
       "    </tr>\n",
       "    <tr>\n",
       "      <th>2021-11-23</th>\n",
       "      <td>97.173125</td>\n",
       "      <td>99.112725</td>\n",
       "    </tr>\n",
       "  </tbody>\n",
       "</table>\n",
       "</div>"
      ],
      "text/plain": [
       "             sma_fast   sma_slow\n",
       "time                            \n",
       "2021-11-17  97.355000  99.416525\n",
       "2021-11-18  97.313750  99.332800\n",
       "2021-11-19  97.185000  99.252500\n",
       "2021-11-22  97.260000  99.182900\n",
       "2021-11-23  97.173125  99.112725"
      ]
     },
     "execution_count": 16,
     "metadata": {},
     "output_type": "execute_result"
    }
   ],
   "source": [
    "# Generate the X_train and y_train DataFrames\n",
    "X_train = X.loc[training_begin:training_end]\n",
    "y_train = y.loc[training_begin:training_end]\n",
    "\n",
    "# Display sample data\n",
    "X_train.head()"
   ]
  },
  {
   "cell_type": "code",
   "execution_count": 17,
   "id": "2e6a4f54-9bdb-496a-b60e-e2536cdde291",
   "metadata": {},
   "outputs": [
    {
     "data": {
      "text/html": [
       "<div>\n",
       "<style scoped>\n",
       "    .dataframe tbody tr th:only-of-type {\n",
       "        vertical-align: middle;\n",
       "    }\n",
       "\n",
       "    .dataframe tbody tr th {\n",
       "        vertical-align: top;\n",
       "    }\n",
       "\n",
       "    .dataframe thead th {\n",
       "        text-align: right;\n",
       "    }\n",
       "</style>\n",
       "<table border=\"1\" class=\"dataframe\">\n",
       "  <thead>\n",
       "    <tr style=\"text-align: right;\">\n",
       "      <th></th>\n",
       "      <th>sma_fast</th>\n",
       "      <th>sma_slow</th>\n",
       "    </tr>\n",
       "    <tr>\n",
       "      <th>time</th>\n",
       "      <th></th>\n",
       "      <th></th>\n",
       "    </tr>\n",
       "  </thead>\n",
       "  <tbody>\n",
       "    <tr>\n",
       "      <th>2022-02-17</th>\n",
       "      <td>93.523750</td>\n",
       "      <td>95.654075</td>\n",
       "    </tr>\n",
       "    <tr>\n",
       "      <th>2022-02-18</th>\n",
       "      <td>93.585625</td>\n",
       "      <td>95.605200</td>\n",
       "    </tr>\n",
       "    <tr>\n",
       "      <th>2022-02-21</th>\n",
       "      <td>93.439375</td>\n",
       "      <td>95.552175</td>\n",
       "    </tr>\n",
       "    <tr>\n",
       "      <th>2022-02-22</th>\n",
       "      <td>92.913125</td>\n",
       "      <td>95.499700</td>\n",
       "    </tr>\n",
       "    <tr>\n",
       "      <th>2022-02-23</th>\n",
       "      <td>92.135000</td>\n",
       "      <td>95.435675</td>\n",
       "    </tr>\n",
       "  </tbody>\n",
       "</table>\n",
       "</div>"
      ],
      "text/plain": [
       "             sma_fast   sma_slow\n",
       "time                            \n",
       "2022-02-17  93.523750  95.654075\n",
       "2022-02-18  93.585625  95.605200\n",
       "2022-02-21  93.439375  95.552175\n",
       "2022-02-22  92.913125  95.499700\n",
       "2022-02-23  92.135000  95.435675"
      ]
     },
     "execution_count": 17,
     "metadata": {},
     "output_type": "execute_result"
    }
   ],
   "source": [
    "# Generate the X_test and y_test DataFrames\n",
    "X_test = X.loc[training_end:]\n",
    "y_test = y.loc[training_end:]\n",
    "\n",
    "# Display sample data\n",
    "X_test.head()"
   ]
  },
  {
   "cell_type": "code",
   "execution_count": 18,
   "id": "863e7dd4-0cbb-44ad-96aa-68dad2ad0cec",
   "metadata": {},
   "outputs": [],
   "source": [
    "#STANDARDIZE\n",
    "# Imports\n",
    "from sklearn.preprocessing import StandardScaler"
   ]
  },
  {
   "cell_type": "code",
   "execution_count": 19,
   "id": "61d36065-c32a-413f-be17-d264500a230b",
   "metadata": {},
   "outputs": [],
   "source": [
    "# Create a StandardScaler instance\n",
    "scaler = StandardScaler()\n",
    " \n",
    "# Apply the scaler model to fit the X-train data\n",
    "X_scaler = scaler.fit(X_train)\n",
    " \n",
    "# Transform the X_train and X_test DataFrames using the X_scaler\n",
    "X_train_scaled = X_scaler.transform(X_train)\n",
    "X_test_scaled = X_scaler.transform(X_test)\n"
   ]
  },
  {
   "cell_type": "code",
   "execution_count": 20,
   "id": "3308d2bc-a57d-49ba-915c-33556a700824",
   "metadata": {},
   "outputs": [],
   "source": [
    "#SVM Modeling"
   ]
  },
  {
   "cell_type": "code",
   "execution_count": 21,
   "id": "4cf29175-4f58-47d1-9fa8-305e4b8aa48c",
   "metadata": {},
   "outputs": [],
   "source": [
    "# Imports\n",
    "from sklearn import svm\n",
    "from sklearn.metrics import classification_report"
   ]
  },
  {
   "cell_type": "code",
   "execution_count": 22,
   "id": "fdbc1f39-243c-4f91-9fe4-073e6426ca8c",
   "metadata": {},
   "outputs": [
    {
     "data": {
      "text/plain": [
       "array([-1., -1., -1., -1., -1., -1., -1., -1., -1.,  1.])"
      ]
     },
     "execution_count": 22,
     "metadata": {},
     "output_type": "execute_result"
    }
   ],
   "source": [
    "# Create the classifier model\n",
    "svm_model = svm.SVC()\n",
    " \n",
    "# Fit the model to the data using X_train_scaled and y_train\n",
    "svm_model = svm_model.fit(X_train_scaled, y_train)\n",
    "\n",
    "# Use the trained model to predict the trading signals for the training data\n",
    "training_signal_predictions = svm_model.predict(X_train_scaled)\n",
    "\n",
    "# Display the sample predictions\n",
    "training_signal_predictions[:10]"
   ]
  },
  {
   "cell_type": "code",
   "execution_count": 23,
   "id": "cf51da78-26a1-4b55-b3c8-21d574ec6ec4",
   "metadata": {},
   "outputs": [
    {
     "name": "stdout",
     "output_type": "stream",
     "text": [
      "              precision    recall  f1-score   support\n",
      "\n",
      "        -1.0       0.61      0.86      0.71        35\n",
      "         1.0       0.64      0.32      0.43        28\n",
      "\n",
      "    accuracy                           0.62        63\n",
      "   macro avg       0.63      0.59      0.57        63\n",
      "weighted avg       0.63      0.62      0.59        63\n",
      "\n"
     ]
    }
   ],
   "source": [
    "# Evaluate the model using a classification report\n",
    "training_report = classification_report(y_train, training_signal_predictions)\n",
    "print(training_report)"
   ]
  },
  {
   "cell_type": "code",
   "execution_count": 24,
   "id": "34d02f41-a4da-42d6-b418-6d3eb526c7d6",
   "metadata": {},
   "outputs": [],
   "source": [
    "# Use the trained model to predict the trading signals for the testing data.\n",
    "testing_signal_predictions = svm_model.predict(X_test_scaled)"
   ]
  },
  {
   "cell_type": "code",
   "execution_count": 25,
   "id": "4c00f77b-8d61-451b-887b-fef06a77ded4",
   "metadata": {},
   "outputs": [
    {
     "name": "stdout",
     "output_type": "stream",
     "text": [
      "              precision    recall  f1-score   support\n",
      "\n",
      "        -1.0       0.60      0.88      0.71        57\n",
      "         1.0       0.12      0.03      0.05        35\n",
      "\n",
      "    accuracy                           0.55        92\n",
      "   macro avg       0.36      0.45      0.38        92\n",
      "weighted avg       0.42      0.55      0.46        92\n",
      "\n"
     ]
    }
   ],
   "source": [
    "# Evaluate the model's ability to predict the trading signal for the testing data\n",
    "svm_testing_report = classification_report(y_test, testing_signal_predictions)\n",
    "print(svm_testing_report)"
   ]
  },
  {
   "cell_type": "code",
   "execution_count": 26,
   "id": "ea1f9d94-f163-44ce-9f29-af1459d15f3c",
   "metadata": {},
   "outputs": [
    {
     "data": {
      "text/html": [
       "<div>\n",
       "<style scoped>\n",
       "    .dataframe tbody tr th:only-of-type {\n",
       "        vertical-align: middle;\n",
       "    }\n",
       "\n",
       "    .dataframe tbody tr th {\n",
       "        vertical-align: top;\n",
       "    }\n",
       "\n",
       "    .dataframe thead th {\n",
       "        text-align: right;\n",
       "    }\n",
       "</style>\n",
       "<table border=\"1\" class=\"dataframe\">\n",
       "  <thead>\n",
       "    <tr style=\"text-align: right;\">\n",
       "      <th></th>\n",
       "      <th>predicted_signal</th>\n",
       "      <th>actual_returns</th>\n",
       "      <th>trading_algorithm_returns</th>\n",
       "    </tr>\n",
       "    <tr>\n",
       "      <th>time</th>\n",
       "      <th></th>\n",
       "      <th></th>\n",
       "      <th></th>\n",
       "    </tr>\n",
       "  </thead>\n",
       "  <tbody>\n",
       "    <tr>\n",
       "      <th>2022-02-17</th>\n",
       "      <td>1.0</td>\n",
       "      <td>-0.001833</td>\n",
       "      <td>-0.001833</td>\n",
       "    </tr>\n",
       "    <tr>\n",
       "      <th>2022-02-18</th>\n",
       "      <td>1.0</td>\n",
       "      <td>-0.007214</td>\n",
       "      <td>-0.007214</td>\n",
       "    </tr>\n",
       "    <tr>\n",
       "      <th>2022-02-21</th>\n",
       "      <td>1.0</td>\n",
       "      <td>-0.007615</td>\n",
       "      <td>-0.007615</td>\n",
       "    </tr>\n",
       "    <tr>\n",
       "      <th>2022-02-22</th>\n",
       "      <td>1.0</td>\n",
       "      <td>-0.005890</td>\n",
       "      <td>-0.005890</td>\n",
       "    </tr>\n",
       "    <tr>\n",
       "      <th>2022-02-23</th>\n",
       "      <td>1.0</td>\n",
       "      <td>-0.012829</td>\n",
       "      <td>-0.012829</td>\n",
       "    </tr>\n",
       "  </tbody>\n",
       "</table>\n",
       "</div>"
      ],
      "text/plain": [
       "            predicted_signal  actual_returns  trading_algorithm_returns\n",
       "time                                                                   \n",
       "2022-02-17               1.0       -0.001833                  -0.001833\n",
       "2022-02-18               1.0       -0.007214                  -0.007214\n",
       "2022-02-21               1.0       -0.007615                  -0.007615\n",
       "2022-02-22               1.0       -0.005890                  -0.005890\n",
       "2022-02-23               1.0       -0.012829                  -0.012829"
      ]
     },
     "execution_count": 26,
     "metadata": {},
     "output_type": "execute_result"
    }
   ],
   "source": [
    "# Create a new empty predictions DataFrame using code provided below.\n",
    "predictions_df = pd.DataFrame(index=X_test.index)\n",
    "predictions_df[\"predicted_signal\"] = testing_signal_predictions\n",
    "predictions_df[\"actual_returns\"] = trading_df[\"actual_returns\"]\n",
    "predictions_df[\"trading_algorithm_returns\"] = predictions_df[\"actual_returns\"] * predictions_df[\"predicted_signal\"]\n",
    "predictions_df.head()"
   ]
  },
  {
   "cell_type": "code",
   "execution_count": 27,
   "id": "b1f86b80-e50f-4db0-b576-d16b80f81c78",
   "metadata": {},
   "outputs": [
    {
     "data": {
      "text/plain": [
       "<AxesSubplot:xlabel='time'>"
      ]
     },
     "execution_count": 27,
     "metadata": {},
     "output_type": "execute_result"
    },
    {
     "data": {
      "image/png": "[encoded data removed]",
      "text/plain": [
       "<Figure size 432x288 with 1 Axes>"
      ]
     },
     "metadata": {
      "needs_background": "light"
     },
     "output_type": "display_data"
    }
   ],
   "source": [
    "# Calculate and plot the cumulative returns for the `actual_returns` and the `trading_algorithm_returns`\n",
    "(1 + predictions_df[[\"actual_returns\", \"trading_algorithm_returns\"]]).cumprod().plot()"
   ]
  },
  {
   "cell_type": "code",
   "execution_count": 28,
   "id": "33e1a342-16a8-4392-b80c-916c8d8745fc",
   "metadata": {},
   "outputs": [],
   "source": [
    "#LOGISTICREGRESSION\n",
    "# Import LogisticRegression from sklearn\n",
    "from sklearn.linear_model import LogisticRegression"
   ]
  },
  {
   "cell_type": "code",
   "execution_count": 29,
   "id": "dc0b3ea1-e9ad-4fa1-8dab-49311543396f",
   "metadata": {},
   "outputs": [],
   "source": [
    "# Create an instance of the LogisticRegression model\n",
    "logistic_regression_model = LogisticRegression()"
   ]
  },
  {
   "cell_type": "code",
   "execution_count": 30,
   "id": "19020f11-509d-4c96-998d-3ebec4a44d5e",
   "metadata": {},
   "outputs": [
    {
     "data": {
      "text/html": [
       "<style>#sk-container-id-1 {color: black;background-color: white;}#sk-container-id-1 pre{padding: 0;}#sk-container-id-1 div.sk-toggleable {background-color: white;}#sk-container-id-1 label.sk-toggleable__label {cursor: pointer;display: block;width: 100%;margin-bottom: 0;padding: 0.3em;box-sizing: border-box;text-align: center;}#sk-container-id-1 label.sk-toggleable__label-arrow:before {content: \"▸\";float: left;margin-right: 0.25em;color: #696969;}#sk-container-id-1 label.sk-toggleable__label-arrow:hover:before {color: black;}#sk-container-id-1 div.sk-estimator:hover label.sk-toggleable__label-arrow:before {color: black;}#sk-container-id-1 div.sk-toggleable__content {max-height: 0;max-width: 0;overflow: hidden;text-align: left;background-color: #f0f8ff;}#sk-container-id-1 div.sk-toggleable__content pre {margin: 0.2em;color: black;border-radius: 0.25em;background-color: #f0f8ff;}#sk-container-id-1 input.sk-toggleable__control:checked~div.sk-toggleable__content {max-height: 200px;max-width: 100%;overflow: auto;}#sk-container-id-1 input.sk-toggleable__control:checked~label.sk-toggleable__label-arrow:before {content: \"▾\";}#sk-container-id-1 div.sk-estimator input.sk-toggleable__control:checked~label.sk-toggleable__label {background-color: #d4ebff;}#sk-container-id-1 div.sk-label input.sk-toggleable__control:checked~label.sk-toggleable__label {background-color: #d4ebff;}#sk-container-id-1 input.sk-hidden--visually {border: 0;clip: rect(1px 1px 1px 1px);clip: rect(1px, 1px, 1px, 1px);height: 1px;margin: -1px;overflow: hidden;padding: 0;position: absolute;width: 1px;}#sk-container-id-1 div.sk-estimator {font-family: monospace;background-color: #f0f8ff;border: 1px dotted black;border-radius: 0.25em;box-sizing: border-box;margin-bottom: 0.5em;}#sk-container-id-1 div.sk-estimator:hover {background-color: #d4ebff;}#sk-container-id-1 div.sk-parallel-item::after {content: \"\";width: 100%;border-bottom: 1px solid gray;flex-grow: 1;}#sk-container-id-1 div.sk-label:hover label.sk-toggleable__label {background-color: #d4ebff;}#sk-container-id-1 div.sk-serial::before {content: \"\";position: absolute;border-left: 1px solid gray;box-sizing: border-box;top: 0;bottom: 0;left: 50%;z-index: 0;}#sk-container-id-1 div.sk-serial {display: flex;flex-direction: column;align-items: center;background-color: white;padding-right: 0.2em;padding-left: 0.2em;position: relative;}#sk-container-id-1 div.sk-item {position: relative;z-index: 1;}#sk-container-id-1 div.sk-parallel {display: flex;align-items: stretch;justify-content: center;background-color: white;position: relative;}#sk-container-id-1 div.sk-item::before, #sk-container-id-1 div.sk-parallel-item::before {content: \"\";position: absolute;border-left: 1px solid gray;box-sizing: border-box;top: 0;bottom: 0;left: 50%;z-index: -1;}#sk-container-id-1 div.sk-parallel-item {display: flex;flex-direction: column;z-index: 1;position: relative;background-color: white;}#sk-container-id-1 div.sk-parallel-item:first-child::after {align-self: flex-end;width: 50%;}#sk-container-id-1 div.sk-parallel-item:last-child::after {align-self: flex-start;width: 50%;}#sk-container-id-1 div.sk-parallel-item:only-child::after {width: 0;}#sk-container-id-1 div.sk-dashed-wrapped {border: 1px dashed gray;margin: 0 0.4em 0.5em 0.4em;box-sizing: border-box;padding-bottom: 0.4em;background-color: white;}#sk-container-id-1 div.sk-label label {font-family: monospace;font-weight: bold;display: inline-block;line-height: 1.2em;}#sk-container-id-1 div.sk-label-container {text-align: center;}#sk-container-id-1 div.sk-container {/* jupyter's `normalize.less` sets `[hidden] { display: none; }` but bootstrap.min.css set `[hidden] { display: none !important; }` so we also need the `!important` here to be able to override the default hidden behavior on the sphinx rendered scikit-learn.org. See: https://github.com/scikit-learn/scikit-learn/issues/21755 */display: inline-block !important;position: relative;}#sk-container-id-1 div.sk-text-repr-fallback {display: none;}</style><div id=\"sk-container-id-1\" class=\"sk-top-container\"><div class=\"sk-text-repr-fallback\"><pre>LogisticRegression()</pre><b>In a Jupyter environment, please rerun this cell to show the HTML representation or trust the notebook. <br />On GitHub, the HTML representation is unable to render, please try loading this page with nbviewer.org.</b></div><div class=\"sk-container\" hidden><div class=\"sk-item\"><div class=\"sk-estimator sk-toggleable\"><input class=\"sk-toggleable__control sk-hidden--visually\" id=\"sk-estimator-id-1\" type=\"checkbox\" checked><label for=\"sk-estimator-id-1\" class=\"sk-toggleable__label sk-toggleable__label-arrow\">LogisticRegression</label><div class=\"sk-toggleable__content\"><pre>LogisticRegression()</pre></div></div></div></div></div>"
      ],
      "text/plain": [
       "LogisticRegression()"
      ]
     },
     "execution_count": 30,
     "metadata": {},
     "output_type": "execute_result"
    }
   ],
   "source": [
    "# Fit the LogisticRegression model\n",
    "logistic_regression_model.fit(X_train_scaled, y_train)"
   ]
  },
  {
   "cell_type": "code",
   "execution_count": 31,
   "id": "4741bbc1-6c98-4da1-beb5-aef8e075a465",
   "metadata": {},
   "outputs": [
    {
     "data": {
      "text/plain": [
       "array([-1., -1., -1., -1., -1., -1., -1., -1.,  1.,  1.,  1.,  1., -1.,\n",
       "       -1., -1., -1., -1., -1., -1., -1., -1., -1., -1., -1., -1., -1.,\n",
       "       -1., -1., -1., -1., -1., -1., -1.,  1.,  1.,  1., -1., -1., -1.,\n",
       "       -1., -1., -1., -1., -1., -1., -1.,  1.,  1.,  1.,  1.,  1.,  1.,\n",
       "       -1., -1., -1., -1., -1., -1., -1., -1., -1., -1., -1.])"
      ]
     },
     "execution_count": 31,
     "metadata": {},
     "output_type": "execute_result"
    }
   ],
   "source": [
    "# Use the trained LogisticRegression model to predict the trading signals for the training data\n",
    "lr_training_signal_predictions = logistic_regression_model.predict(X_train_scaled)\n",
    "\n",
    "# Display the predictions\n",
    "lr_training_signal_predictions"
   ]
  },
  {
   "cell_type": "code",
   "execution_count": 32,
   "id": "f0a92dde-e79e-439b-b2c4-dba50e6b7b11",
   "metadata": {},
   "outputs": [
    {
     "name": "stdout",
     "output_type": "stream",
     "text": [
      "              precision    recall  f1-score   support\n",
      "\n",
      "        -1.0       0.60      0.86      0.71        35\n",
      "         1.0       0.62      0.29      0.39        28\n",
      "\n",
      "    accuracy                           0.60        63\n",
      "   macro avg       0.61      0.57      0.55        63\n",
      "weighted avg       0.61      0.60      0.57        63\n",
      "\n"
     ]
    }
   ],
   "source": [
    "# Generate a classification report using the training data and the logistic regression model's predications\n",
    "lr_training_report = classification_report(y_train, lr_training_signal_predictions)\n",
    "\n",
    "# Review the classification report\n",
    "print(lr_training_report)"
   ]
  },
  {
   "cell_type": "code",
   "execution_count": 33,
   "id": "e4a8f1fe-2a68-4995-85f0-28b1ee9b7c99",
   "metadata": {},
   "outputs": [],
   "source": [
    "# Use the trained model to predict the trading signals for the testing data.\n",
    "lr_testing_signal_predictions = logistic_regression_model.predict(X_test_scaled)"
   ]
  },
  {
   "cell_type": "code",
   "execution_count": 34,
   "id": "47c46a75-5910-4b0b-9f53-88c8e3aca660",
   "metadata": {},
   "outputs": [
    {
     "name": "stdout",
     "output_type": "stream",
     "text": [
      "              precision    recall  f1-score   support\n",
      "\n",
      "        -1.0       1.00      0.05      0.10        57\n",
      "         1.0       0.39      1.00      0.56        35\n",
      "\n",
      "    accuracy                           0.41        92\n",
      "   macro avg       0.70      0.53      0.33        92\n",
      "weighted avg       0.77      0.41      0.28        92\n",
      "\n"
     ]
    }
   ],
   "source": [
    "# Generate a classification report using the testing data and the logistic regression model's predictions\n",
    "lr_testing_report = classification_report(y_test, lr_testing_signal_predictions)\n",
    "\n",
    "# Review the testing classification report\n",
    "print(lr_testing_report)"
   ]
  },
  {
   "cell_type": "code",
   "execution_count": 35,
   "id": "ebf42423-fe4d-4b65-b051-196f2fbef9e2",
   "metadata": {},
   "outputs": [
    {
     "name": "stdout",
     "output_type": "stream",
     "text": [
      "Logistic Regression Classification Report\n",
      "              precision    recall  f1-score   support\n",
      "\n",
      "        -1.0       1.00      0.05      0.10        57\n",
      "         1.0       0.39      1.00      0.56        35\n",
      "\n",
      "    accuracy                           0.41        92\n",
      "   macro avg       0.70      0.53      0.33        92\n",
      "weighted avg       0.77      0.41      0.28        92\n",
      "\n"
     ]
    }
   ],
   "source": [
    "# Print the classification report for the Logistic Regression model using the test data\n",
    "print(\"Logistic Regression Classification Report\")\n",
    "print(lr_testing_report)"
   ]
  },
  {
   "cell_type": "code",
   "execution_count": 36,
   "id": "7e58dbc2-ca9d-4cac-a7c7-1686e5999c37",
   "metadata": {},
   "outputs": [
    {
     "name": "stdout",
     "output_type": "stream",
     "text": [
      "SVM Classification Report\n",
      "              precision    recall  f1-score   support\n",
      "\n",
      "        -1.0       0.60      0.88      0.71        57\n",
      "         1.0       0.12      0.03      0.05        35\n",
      "\n",
      "    accuracy                           0.55        92\n",
      "   macro avg       0.36      0.45      0.38        92\n",
      "weighted avg       0.42      0.55      0.46        92\n",
      "\n"
     ]
    }
   ],
   "source": [
    "# Print the classification report for the SVM model using the test data\n",
    "print(\"SVM Classification Report\")\n",
    "print(svm_testing_report)"
   ]
  },
  {
   "cell_type": "code",
   "execution_count": null,
   "id": "529d50b8-3fbe-4606-9b3e-3bd0ec32e7c7",
   "metadata": {},
   "outputs": [],
   "source": []
  }
 ],
 "metadata": {
  "kernelspec": {
   "display_name": "Python 3 (ipykernel)",
   "language": "python",
   "name": "python3"
  },
  "language_info": {
   "codemirror_mode": {
    "name": "ipython",
    "version": 3
   },
   "file_extension": ".py",
   "mimetype": "text/x-python",
   "name": "python",
   "nbconvert_exporter": "python",
   "pygments_lexer": "ipython3",
   "version": "3.9.12"
  }
 },
 "nbformat": 4,
 "nbformat_minor": 5
}
