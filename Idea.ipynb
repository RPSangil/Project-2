{
 "cells": [
  {
   "cell_type": "code",
   "execution_count": null,
   "id": "9a0d225c-89db-4647-ade8-6af007ae0665",
   "metadata": {},
   "outputs": [],
   "source": [
    "# Import the required libraries\n",
    "import pandas as pd\n",
    "import numpy as np"
   ]
  },
  {
   "cell_type": "code",
   "execution_count": null,
   "id": "14c06cf9-3997-40ac-a2a1-92b55994f32a",
   "metadata": {},
   "outputs": [],
   "source": [
    "# Closing prices for AMD stock\n",
    "amd_data = [28.99, 28.76, 28.31, 28.68, 29.01, 28.93, 28.23, 28.46, 28.38, 29.75,]"
   ]
  },
  {
   "cell_type": "code",
   "execution_count": null,
   "id": "294e6caf-c75c-4d7f-9e3e-60c9c8a3e84f",
   "metadata": {},
   "outputs": [],
   "source": [
    "# Create the Pandas DataFrame using the price information supplied\n",
    "amd_df = pd.DataFrame(\n",
    "    {\"close\": amd_data}\n",
    ")\n",
    "\n",
    "# Review the DataFrame\n",
    "amd_df"
   ]
  },
  {
   "cell_type": "code",
   "execution_count": null,
   "id": "5afb8b3e-60b9-4a0c-ab31-8be75f5c3521",
   "metadata": {},
   "outputs": [],
   "source": [
    "# Set the index as datetime objects starting from 2019-09-09 and onwards (but only business days)\n",
    "amd_df.index = pd.bdate_range(start='2019-09-30', periods=10)\n",
    "\n",
    "# Review the DataFrame\n",
    "amd_df"
   ]
  },
  {
   "cell_type": "code",
   "execution_count": null,
   "id": "5d83a1db-1b9a-407a-b1d4-851df0166a43",
   "metadata": {},
   "outputs": [],
   "source": [
    "# Visualize the DataFrame using the plot function \n",
    "amd_df.plot()"
   ]
  },
  {
   "cell_type": "code",
   "execution_count": null,
   "id": "d14bb73d-a69f-4092-b894-5a7dc0ae72b9",
   "metadata": {},
   "outputs": [],
   "source": [
    "# Initialize trade_type column for buys and sells\n",
    "amd_df['trade_type'] = np.nan\n",
    "\n",
    "# Initialize variable to hold the previous_price\n",
    "previous_price = 0"
   ]
  },
  {
   "cell_type": "code",
   "execution_count": null,
   "id": "c8ed0f04-d0fc-4b4d-9e44-46586b86614d",
   "metadata": {},
   "outputs": [],
   "source": [
    "# Loop through the Pandas DataFrame and code the conditions of the trading strategy \n",
    "for index, row in amd_df.iterrows():\n",
    "    \n",
    "    # buy if the previous price is 0, in other words, buy on the first day\n",
    "    if previous_price == 0:\n",
    "        amd_df.loc[index, \"trade_type\"] = \"buy\"\n",
    "\n",
    "    # buy if the current day price is less than the previous day price\n",
    "    elif row[\"close\"] < previous_price:\n",
    "        amd_df.loc[index, \"trade_type\"] = \"buy\"\n",
    "\n",
    "    # sell if the current day price is greater than the previous day price\n",
    "    elif row[\"close\"] > previous_price:\n",
    "        amd_df.loc[index, \"trade_type\"] = \"sell\"\n",
    "\n",
    "    # else hold if the current day price is equal to the previous day price\n",
    "    else:\n",
    "        amd_df.loc[index, \"trade_type\"] = \"hold\"\n",
    "    \n",
    "    # reset the previous_price variable to the close price of the current row\n",
    "    previous_price = row[\"close\"]\n",
    "\n",
    "    # if the index is the last index of the Dataframe, set the trade_type to sell\n",
    "    if index == amd_df.index[-1]:\n",
    "        amd_df.loc[index, \"trade_type\"] = \"sell\""
   ]
  },
  {
   "cell_type": "code",
   "execution_count": null,
   "id": "11a5c98c-8fcf-406b-9852-b49619c2102f",
   "metadata": {},
   "outputs": [],
   "source": [
    "# Run the algorithm and review the DataFrame\n",
    "amd_df"
   ]
  }
 ],
 "metadata": {
  "kernelspec": {
   "display_name": "Python 3 (ipykernel)",
   "language": "python",
   "name": "python3"
  },
  "language_info": {
   "codemirror_mode": {
    "name": "ipython",
    "version": 3
   },
   "file_extension": ".py",
   "mimetype": "text/x-python",
   "name": "python",
   "nbconvert_exporter": "python",
   "pygments_lexer": "ipython3",
   "version": "3.9.12"
  }
 },
 "nbformat": 4,
 "nbformat_minor": 5
}
