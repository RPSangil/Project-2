{
 "cells": [
  {
   "cell_type": "markdown",
   "id": "4d1fd785-955f-475b-af7f-c1011e37b645",
   "metadata": {},
   "source": [
    "# Supervised Machine Learning\n",
    "\n",
    "The below code contains the SVM model and Logistic Regression model for the 5 year slice of time."
   ]
  },
  {
   "cell_type": "markdown",
   "id": "b49c279f-550f-43a2-b036-e23c40bac4d9",
   "metadata": {},
   "source": [
    "## Imports\n",
    "\n",
    "These are the imports needed to fun this code. If anything is not allows to import, please !pip install accordingly."
   ]
  },
  {
   "cell_type": "code",
   "execution_count": 1,
   "id": "de45006b-b9fd-460e-b514-8c613894954d",
   "metadata": {},
   "outputs": [],
   "source": [
    "# Import required libraries\n",
    "import pandas as pd\n",
    "from pathlib import Path\n",
    "from pandas.tseries.offsets import DateOffset\n",
    "import warnings\n",
    "warnings.filterwarnings(\"ignore\")\n",
    "from sklearn import svm\n",
    "from sklearn.preprocessing import StandardScaler\n",
    "from sklearn.metrics import classification_report\n",
    "from sklearn.linear_model import LogisticRegression"
   ]
  },
  {
   "cell_type": "markdown",
   "id": "91a2e504-b247-4812-83e9-419c9847f798",
   "metadata": {},
   "source": [
    "## Load Pre Processed data for 1 year Period"
   ]
  },
  {
   "cell_type": "code",
   "execution_count": 2,
   "id": "0f44e147-3e4c-4b3b-91b4-97f7e4b3387c",
   "metadata": {},
   "outputs": [
    {
     "data": {
      "text/html": [
       "<div>\n",
       "<style scoped>\n",
       "    .dataframe tbody tr th:only-of-type {\n",
       "        vertical-align: middle;\n",
       "    }\n",
       "\n",
       "    .dataframe tbody tr th {\n",
       "        vertical-align: top;\n",
       "    }\n",
       "\n",
       "    .dataframe thead th {\n",
       "        text-align: right;\n",
       "    }\n",
       "</style>\n",
       "<table border=\"1\" class=\"dataframe\">\n",
       "  <thead>\n",
       "    <tr style=\"text-align: right;\">\n",
       "      <th></th>\n",
       "      <th>Core_MSCI_World_ex_Australia_ESG_Leaders_Volume</th>\n",
       "      <th>Edge_MSCI_World_Multifactor_Volume</th>\n",
       "      <th>Global_100_Volume</th>\n",
       "      <th>Global_Healthcare_Volume</th>\n",
       "      <th>SP_500_Volume</th>\n",
       "      <th>volume</th>\n",
       "      <th>Core_MSCI_World_ex_Australia_ESG_Leaders_Costs</th>\n",
       "      <th>Edge_MSCI_World_Multifactor_Costs</th>\n",
       "      <th>Global_100_Costs</th>\n",
       "      <th>Global_Healthcare_Costs</th>\n",
       "      <th>SP_500_Costs</th>\n",
       "      <th>close</th>\n",
       "    </tr>\n",
       "    <tr>\n",
       "      <th>time</th>\n",
       "      <th></th>\n",
       "      <th></th>\n",
       "      <th></th>\n",
       "      <th></th>\n",
       "      <th></th>\n",
       "      <th></th>\n",
       "      <th></th>\n",
       "      <th></th>\n",
       "      <th></th>\n",
       "      <th></th>\n",
       "      <th></th>\n",
       "      <th></th>\n",
       "    </tr>\n",
       "  </thead>\n",
       "  <tbody>\n",
       "    <tr>\n",
       "      <th>2017-06-30</th>\n",
       "      <td>320,086.00</td>\n",
       "      <td>440,000.00</td>\n",
       "      <td>37,800,000.00</td>\n",
       "      <td>28,800,000.00</td>\n",
       "      <td>474,400,000.00</td>\n",
       "      <td>108,352,017.20</td>\n",
       "      <td>29.21</td>\n",
       "      <td>28.52</td>\n",
       "      <td>54.75</td>\n",
       "      <td>71.15</td>\n",
       "      <td>317.30</td>\n",
       "      <td>100.186</td>\n",
       "    </tr>\n",
       "    <tr>\n",
       "      <th>2017-07-03</th>\n",
       "      <td>320,321.00</td>\n",
       "      <td>441,292.00</td>\n",
       "      <td>37,800,000.00</td>\n",
       "      <td>28,800,000.00</td>\n",
       "      <td>475,750,000.00</td>\n",
       "      <td>108,622,322.60</td>\n",
       "      <td>29.08</td>\n",
       "      <td>27.53</td>\n",
       "      <td>55.20</td>\n",
       "      <td>71.38</td>\n",
       "      <td>319.00</td>\n",
       "      <td>100.438</td>\n",
       "    </tr>\n",
       "    <tr>\n",
       "      <th>2017-07-05</th>\n",
       "      <td>360,380.00</td>\n",
       "      <td>441,264.00</td>\n",
       "      <td>37,800,000.00</td>\n",
       "      <td>28,800,000.00</td>\n",
       "      <td>476,450,000.00</td>\n",
       "      <td>108,770,328.80</td>\n",
       "      <td>29.34</td>\n",
       "      <td>27.79</td>\n",
       "      <td>55.66</td>\n",
       "      <td>72.17</td>\n",
       "      <td>322.37</td>\n",
       "      <td>101.466</td>\n",
       "    </tr>\n",
       "    <tr>\n",
       "      <th>2017-07-06</th>\n",
       "      <td>360,380.00</td>\n",
       "      <td>441,264.00</td>\n",
       "      <td>37,800,000.00</td>\n",
       "      <td>29,000,000.00</td>\n",
       "      <td>476,850,000.00</td>\n",
       "      <td>108,890,328.80</td>\n",
       "      <td>29.13</td>\n",
       "      <td>27.68</td>\n",
       "      <td>55.40</td>\n",
       "      <td>71.38</td>\n",
       "      <td>319.49</td>\n",
       "      <td>100.616</td>\n",
       "    </tr>\n",
       "    <tr>\n",
       "      <th>2017-07-07</th>\n",
       "      <td>360,380.00</td>\n",
       "      <td>441,264.00</td>\n",
       "      <td>37,800,000.00</td>\n",
       "      <td>29,200,000.00</td>\n",
       "      <td>477,550,000.00</td>\n",
       "      <td>109,070,328.80</td>\n",
       "      <td>29.17</td>\n",
       "      <td>27.71</td>\n",
       "      <td>55.32</td>\n",
       "      <td>71.34</td>\n",
       "      <td>320.52</td>\n",
       "      <td>100.812</td>\n",
       "    </tr>\n",
       "  </tbody>\n",
       "</table>\n",
       "</div>"
      ],
      "text/plain": [
       "           Core_MSCI_World_ex_Australia_ESG_Leaders_Volume  \\\n",
       "time                                                         \n",
       "2017-06-30                                      320,086.00   \n",
       "2017-07-03                                      320,321.00   \n",
       "2017-07-05                                      360,380.00   \n",
       "2017-07-06                                      360,380.00   \n",
       "2017-07-07                                      360,380.00   \n",
       "\n",
       "           Edge_MSCI_World_Multifactor_Volume Global_100_Volume  \\\n",
       "time                                                              \n",
       "2017-06-30                         440,000.00     37,800,000.00   \n",
       "2017-07-03                         441,292.00     37,800,000.00   \n",
       "2017-07-05                         441,264.00     37,800,000.00   \n",
       "2017-07-06                         441,264.00     37,800,000.00   \n",
       "2017-07-07                         441,264.00     37,800,000.00   \n",
       "\n",
       "           Global_Healthcare_Volume   SP_500_Volume          volume  \\\n",
       "time                                                                  \n",
       "2017-06-30            28,800,000.00  474,400,000.00  108,352,017.20   \n",
       "2017-07-03            28,800,000.00  475,750,000.00  108,622,322.60   \n",
       "2017-07-05            28,800,000.00  476,450,000.00  108,770,328.80   \n",
       "2017-07-06            29,000,000.00  476,850,000.00  108,890,328.80   \n",
       "2017-07-07            29,200,000.00  477,550,000.00  109,070,328.80   \n",
       "\n",
       "            Core_MSCI_World_ex_Australia_ESG_Leaders_Costs  \\\n",
       "time                                                         \n",
       "2017-06-30                                           29.21   \n",
       "2017-07-03                                           29.08   \n",
       "2017-07-05                                           29.34   \n",
       "2017-07-06                                           29.13   \n",
       "2017-07-07                                           29.17   \n",
       "\n",
       "            Edge_MSCI_World_Multifactor_Costs  Global_100_Costs  \\\n",
       "time                                                              \n",
       "2017-06-30                              28.52             54.75   \n",
       "2017-07-03                              27.53             55.20   \n",
       "2017-07-05                              27.79             55.66   \n",
       "2017-07-06                              27.68             55.40   \n",
       "2017-07-07                              27.71             55.32   \n",
       "\n",
       "            Global_Healthcare_Costs  SP_500_Costs    close  \n",
       "time                                                        \n",
       "2017-06-30                    71.15        317.30  100.186  \n",
       "2017-07-03                    71.38        319.00  100.438  \n",
       "2017-07-05                    72.17        322.37  101.466  \n",
       "2017-07-06                    71.38        319.49  100.616  \n",
       "2017-07-07                    71.34        320.52  100.812  "
      ]
     },
     "execution_count": 2,
     "metadata": {},
     "output_type": "execute_result"
    }
   ],
   "source": [
    "# Read\n",
    "trading_df = pd.read_csv(\n",
    "    Path('../../Data/ETF CSV files/Cost_and_volume_5yr.csv'), \n",
    "    index_col=\"time\", \n",
    "    infer_datetime_format=True, \n",
    "    parse_dates=True)\n",
    "\n",
    "# Review the Data-Frame\n",
    "trading_df.head()"
   ]
  },
  {
   "cell_type": "markdown",
   "id": "bdee0927-7ea5-4fdf-8256-be3fd0358b69",
   "metadata": {},
   "source": [
    "## Data Preparation"
   ]
  },
  {
   "cell_type": "code",
   "execution_count": 3,
   "id": "692e56aa-2cf5-454d-b9b9-9b806b9643f4",
   "metadata": {},
   "outputs": [],
   "source": [
    "# Calculate the daily returns using the closing prices and the pct_change function\n",
    "trading_df[\"actual_returns\"] = trading_df[\"close\"].pct_change()\n",
    "\n",
    "# Define a window size of 4\n",
    "short_window = 4\n",
    "\n",
    "# Create a simple moving average (SMA) using the short_window and assign this to a new columns called sma_fast\n",
    "trading_df[\"sma_fast\"] = trading_df[\"close\"].rolling(window=short_window).mean()\n",
    "\n",
    "# Define a window size of 100\n",
    "long_window = 100\n",
    "\n",
    "# Create a simple moving average (SMA) using the long_window and assign this to a new columns called sma_slow\n",
    "trading_df[\"sma_slow\"] = trading_df[\"close\"].rolling(window=long_window).mean()\n",
    "\n",
    "# Drop all NaN values from the DataFrame\n",
    "trading_df = trading_df.dropna()\n",
    "\n",
    "# Assign a copy of the sma_fast and sma_slow columns to a new DataFrame called X\n",
    "X = trading_df[[\"sma_fast\", \"sma_slow\"]].copy()\n",
    "\n",
    "# Create a new column in the trading_df called signal setting its value to zero.\n",
    "trading_df[\"signal\"] = 0.0\n",
    "\n",
    "# Create the signal to buy\n",
    "trading_df.loc[(trading_df[\"actual_returns\"] >= 0), \"signal\"] = 1\n",
    "\n",
    "# Create the signal to sell\n",
    "trading_df.loc[(trading_df[\"actual_returns\"] < 0), \"signal\"] = -1\n",
    "\n",
    "# Copy the new signal column to a new Series called y.\n",
    "y = trading_df[\"signal\"].copy()"
   ]
  },
  {
   "cell_type": "markdown",
   "id": "8f868b0d-a1ec-444a-9d36-c708d41d478a",
   "metadata": {},
   "source": [
    "## Splitting the features and values"
   ]
  },
  {
   "cell_type": "code",
   "execution_count": 4,
   "id": "ae191573-8fc7-49ed-b4f8-03b62a90471e",
   "metadata": {},
   "outputs": [],
   "source": [
    "# Select the start of the training period\n",
    "training_begin =  X.index.min()\n",
    "\n",
    "# Select the ending period for the training data with an offset of 3 months\n",
    "training_end = X.index.min() + DateOffset(months=3)\n",
    "X.index.min() + DateOffset(months=3)\n",
    "\n",
    "# Create the X_train and y_train DataFrames\n",
    "X_train = X.loc[training_begin:training_end]\n",
    "y_train = y.loc[training_begin:training_end]\n",
    "\n",
    "# Create the X_test and y_test DataFrames\n",
    "X_test = X.loc[training_end:]\n",
    "y_test = y.loc[training_end:]\n",
    "\n",
    "# Create a StandardScaler instance\n",
    "scaler = StandardScaler()\n",
    " \n",
    "# Apply the scaler model to fit the X-train data\n",
    "X_scaler = scaler.fit(X_train)\n",
    "\n",
    "# Transform the X_train and X_test DataFrames using the X_scaler\n",
    "X_train_scaled = X_scaler.transform(X_train)\n",
    "X_test_scaled = X_scaler.transform(X_test)"
   ]
  },
  {
   "cell_type": "markdown",
   "id": "3cde6ef4-ab41-44a8-b28f-796924046f96",
   "metadata": {},
   "source": [
    "## SVM Model"
   ]
  },
  {
   "cell_type": "code",
   "execution_count": 5,
   "id": "fdbc1f39-243c-4f91-9fe4-073e6426ca8c",
   "metadata": {},
   "outputs": [
    {
     "data": {
      "text/plain": [
       "array([ 1.,  1.,  1.,  1.,  1.,  1.,  1.,  1., -1., -1.])"
      ]
     },
     "execution_count": 5,
     "metadata": {},
     "output_type": "execute_result"
    }
   ],
   "source": [
    "# Create the classifier model\n",
    "svm_model = svm.SVC()\n",
    " \n",
    "# Fit the model to the data using X_train_scaled and y_train\n",
    "svm_model = svm_model.fit(X_train_scaled, y_train)\n",
    "\n",
    "# Use the trained model to predict the trading signals for the training data\n",
    "training_signal_predictions = svm_model.predict(X_train_scaled)\n",
    "\n",
    "# Display the sample predictions\n",
    "training_signal_predictions[:10]"
   ]
  },
  {
   "cell_type": "code",
   "execution_count": 6,
   "id": "cf51da78-26a1-4b55-b3c8-21d574ec6ec4",
   "metadata": {},
   "outputs": [
    {
     "name": "stdout",
     "output_type": "stream",
     "text": [
      "SVM Classification Report (training data)\n",
      "              precision    recall  f1-score   support\n",
      "\n",
      "        -1.0       0.62      0.58      0.60        31\n",
      "         1.0       0.61      0.65      0.62        31\n",
      "\n",
      "    accuracy                           0.61        62\n",
      "   macro avg       0.61      0.61      0.61        62\n",
      "weighted avg       0.61      0.61      0.61        62\n",
      "\n"
     ]
    }
   ],
   "source": [
    "# Evaluate the model using a classification report\n",
    "svm_training_report = classification_report(y_train, training_signal_predictions)\n",
    "\n",
    "# Print the classification report for the SVM model using the training data\n",
    "print(\"SVM Classification Report (training data)\")\n",
    "print(svm_training_report)"
   ]
  },
  {
   "cell_type": "code",
   "execution_count": 7,
   "id": "34d02f41-a4da-42d6-b418-6d3eb526c7d6",
   "metadata": {},
   "outputs": [],
   "source": [
    "# Use the trained model to predict the trading signals for the testing data.\n",
    "testing_signal_predictions = svm_model.predict(X_test_scaled)"
   ]
  },
  {
   "cell_type": "code",
   "execution_count": 8,
   "id": "4c00f77b-8d61-451b-887b-fef06a77ded4",
   "metadata": {},
   "outputs": [
    {
     "name": "stdout",
     "output_type": "stream",
     "text": [
      "SVM Classification Report (test data)\n",
      "              precision    recall  f1-score   support\n",
      "\n",
      "        -1.0       0.44      1.00      0.61       493\n",
      "         1.0       0.00      0.00      0.00       620\n",
      "\n",
      "    accuracy                           0.44      1113\n",
      "   macro avg       0.22      0.50      0.31      1113\n",
      "weighted avg       0.20      0.44      0.27      1113\n",
      "\n"
     ]
    }
   ],
   "source": [
    "# Evaluate the model's ability to predict the trading signal for the testing data\n",
    "svm_testing_report = classification_report(y_test, testing_signal_predictions)\n",
    "\n",
    "# Print the classification report for the SVM model using the test data\n",
    "print(\"SVM Classification Report (test data)\")\n",
    "print(svm_testing_report)"
   ]
  },
  {
   "cell_type": "markdown",
   "id": "5c6a4735-9284-492c-ac45-f9bee8475652",
   "metadata": {},
   "source": [
    "## Logistic Regression Model"
   ]
  },
  {
   "cell_type": "code",
   "execution_count": 9,
   "id": "dc0b3ea1-e9ad-4fa1-8dab-49311543396f",
   "metadata": {},
   "outputs": [
    {
     "data": {
      "text/html": [
       "<style>#sk-container-id-1 {color: black;background-color: white;}#sk-container-id-1 pre{padding: 0;}#sk-container-id-1 div.sk-toggleable {background-color: white;}#sk-container-id-1 label.sk-toggleable__label {cursor: pointer;display: block;width: 100%;margin-bottom: 0;padding: 0.3em;box-sizing: border-box;text-align: center;}#sk-container-id-1 label.sk-toggleable__label-arrow:before {content: \"▸\";float: left;margin-right: 0.25em;color: #696969;}#sk-container-id-1 label.sk-toggleable__label-arrow:hover:before {color: black;}#sk-container-id-1 div.sk-estimator:hover label.sk-toggleable__label-arrow:before {color: black;}#sk-container-id-1 div.sk-toggleable__content {max-height: 0;max-width: 0;overflow: hidden;text-align: left;background-color: #f0f8ff;}#sk-container-id-1 div.sk-toggleable__content pre {margin: 0.2em;color: black;border-radius: 0.25em;background-color: #f0f8ff;}#sk-container-id-1 input.sk-toggleable__control:checked~div.sk-toggleable__content {max-height: 200px;max-width: 100%;overflow: auto;}#sk-container-id-1 input.sk-toggleable__control:checked~label.sk-toggleable__label-arrow:before {content: \"▾\";}#sk-container-id-1 div.sk-estimator input.sk-toggleable__control:checked~label.sk-toggleable__label {background-color: #d4ebff;}#sk-container-id-1 div.sk-label input.sk-toggleable__control:checked~label.sk-toggleable__label {background-color: #d4ebff;}#sk-container-id-1 input.sk-hidden--visually {border: 0;clip: rect(1px 1px 1px 1px);clip: rect(1px, 1px, 1px, 1px);height: 1px;margin: -1px;overflow: hidden;padding: 0;position: absolute;width: 1px;}#sk-container-id-1 div.sk-estimator {font-family: monospace;background-color: #f0f8ff;border: 1px dotted black;border-radius: 0.25em;box-sizing: border-box;margin-bottom: 0.5em;}#sk-container-id-1 div.sk-estimator:hover {background-color: #d4ebff;}#sk-container-id-1 div.sk-parallel-item::after {content: \"\";width: 100%;border-bottom: 1px solid gray;flex-grow: 1;}#sk-container-id-1 div.sk-label:hover label.sk-toggleable__label {background-color: #d4ebff;}#sk-container-id-1 div.sk-serial::before {content: \"\";position: absolute;border-left: 1px solid gray;box-sizing: border-box;top: 0;bottom: 0;left: 50%;z-index: 0;}#sk-container-id-1 div.sk-serial {display: flex;flex-direction: column;align-items: center;background-color: white;padding-right: 0.2em;padding-left: 0.2em;position: relative;}#sk-container-id-1 div.sk-item {position: relative;z-index: 1;}#sk-container-id-1 div.sk-parallel {display: flex;align-items: stretch;justify-content: center;background-color: white;position: relative;}#sk-container-id-1 div.sk-item::before, #sk-container-id-1 div.sk-parallel-item::before {content: \"\";position: absolute;border-left: 1px solid gray;box-sizing: border-box;top: 0;bottom: 0;left: 50%;z-index: -1;}#sk-container-id-1 div.sk-parallel-item {display: flex;flex-direction: column;z-index: 1;position: relative;background-color: white;}#sk-container-id-1 div.sk-parallel-item:first-child::after {align-self: flex-end;width: 50%;}#sk-container-id-1 div.sk-parallel-item:last-child::after {align-self: flex-start;width: 50%;}#sk-container-id-1 div.sk-parallel-item:only-child::after {width: 0;}#sk-container-id-1 div.sk-dashed-wrapped {border: 1px dashed gray;margin: 0 0.4em 0.5em 0.4em;box-sizing: border-box;padding-bottom: 0.4em;background-color: white;}#sk-container-id-1 div.sk-label label {font-family: monospace;font-weight: bold;display: inline-block;line-height: 1.2em;}#sk-container-id-1 div.sk-label-container {text-align: center;}#sk-container-id-1 div.sk-container {/* jupyter's `normalize.less` sets `[hidden] { display: none; }` but bootstrap.min.css set `[hidden] { display: none !important; }` so we also need the `!important` here to be able to override the default hidden behavior on the sphinx rendered scikit-learn.org. See: https://github.com/scikit-learn/scikit-learn/issues/21755 */display: inline-block !important;position: relative;}#sk-container-id-1 div.sk-text-repr-fallback {display: none;}</style><div id=\"sk-container-id-1\" class=\"sk-top-container\"><div class=\"sk-text-repr-fallback\"><pre>LogisticRegression()</pre><b>In a Jupyter environment, please rerun this cell to show the HTML representation or trust the notebook. <br />On GitHub, the HTML representation is unable to render, please try loading this page with nbviewer.org.</b></div><div class=\"sk-container\" hidden><div class=\"sk-item\"><div class=\"sk-estimator sk-toggleable\"><input class=\"sk-toggleable__control sk-hidden--visually\" id=\"sk-estimator-id-1\" type=\"checkbox\" checked><label for=\"sk-estimator-id-1\" class=\"sk-toggleable__label sk-toggleable__label-arrow\">LogisticRegression</label><div class=\"sk-toggleable__content\"><pre>LogisticRegression()</pre></div></div></div></div></div>"
      ],
      "text/plain": [
       "LogisticRegression()"
      ]
     },
     "execution_count": 9,
     "metadata": {},
     "output_type": "execute_result"
    }
   ],
   "source": [
    "# Create an instance of the LogisticRegression model\n",
    "logistic_regression_model = LogisticRegression()\n",
    "\n",
    "# Fit the LogisticRegression model\n",
    "logistic_regression_model.fit(X_train_scaled, y_train)"
   ]
  },
  {
   "cell_type": "code",
   "execution_count": 10,
   "id": "4741bbc1-6c98-4da1-beb5-aef8e075a465",
   "metadata": {},
   "outputs": [
    {
     "data": {
      "text/plain": [
       "array([ 1.,  1.,  1.,  1.,  1.,  1.,  1.,  1.,  1.,  1.,  1.,  1.,  1.,\n",
       "        1.,  1.,  1.,  1.,  1.,  1.,  1.,  1.,  1.,  1.,  1., -1., -1.,\n",
       "       -1., -1., -1., -1., -1.,  1.,  1.,  1.,  1.,  1.,  1.,  1.,  1.,\n",
       "        1.,  1.,  1.,  1.,  1.,  1., -1., -1., -1., -1., -1., -1., -1.,\n",
       "       -1., -1., -1., -1., -1., -1., -1., -1., -1., -1.])"
      ]
     },
     "execution_count": 10,
     "metadata": {},
     "output_type": "execute_result"
    }
   ],
   "source": [
    "# Use the trained LogisticRegression model to predict the trading signals for the training data\n",
    "lr_training_signal_predictions = logistic_regression_model.predict(X_train_scaled)\n",
    "\n",
    "# Display the predictions\n",
    "lr_training_signal_predictions"
   ]
  },
  {
   "cell_type": "code",
   "execution_count": 11,
   "id": "f0a92dde-e79e-439b-b2c4-dba50e6b7b11",
   "metadata": {},
   "outputs": [],
   "source": [
    "# Generate a classification report using the training data and the logistic regression model's predications\n",
    "lr_training_report = classification_report(y_train, lr_training_signal_predictions)\n",
    "\n",
    "# Use the trained model to predict the trading signals for the testing data.\n",
    "lr_testing_signal_predictions = logistic_regression_model.predict(X_test_scaled)\n",
    "\n",
    "# Generate a classification report using the testing data and the logistic regression model's predictions\n",
    "lr_testing_report = classification_report(y_test, lr_testing_signal_predictions)"
   ]
  },
  {
   "cell_type": "code",
   "execution_count": 12,
   "id": "e782aacd-8c39-4e76-98f4-94b58cfe9b6d",
   "metadata": {},
   "outputs": [
    {
     "name": "stdout",
     "output_type": "stream",
     "text": [
      "Logistic Regression Classification Report (Training data)\n",
      "              precision    recall  f1-score   support\n",
      "\n",
      "        -1.0       0.54      0.42      0.47        31\n",
      "         1.0       0.53      0.65      0.58        31\n",
      "\n",
      "    accuracy                           0.53        62\n",
      "   macro avg       0.53      0.53      0.53        62\n",
      "weighted avg       0.53      0.53      0.53        62\n",
      "\n"
     ]
    }
   ],
   "source": [
    "# Print the classification report for the Logistic Regression model using training data\n",
    "print(\"Logistic Regression Classification Report (Training data)\")\n",
    "print(lr_training_report)"
   ]
  },
  {
   "cell_type": "code",
   "execution_count": 13,
   "id": "ebf42423-fe4d-4b65-b051-196f2fbef9e2",
   "metadata": {},
   "outputs": [
    {
     "name": "stdout",
     "output_type": "stream",
     "text": [
      "Logistic Regression Classification Report (Test data)\n",
      "              precision    recall  f1-score   support\n",
      "\n",
      "        -1.0       0.45      0.89      0.60       493\n",
      "         1.0       0.61      0.14      0.22       620\n",
      "\n",
      "    accuracy                           0.47      1113\n",
      "   macro avg       0.53      0.51      0.41      1113\n",
      "weighted avg       0.54      0.47      0.39      1113\n",
      "\n"
     ]
    }
   ],
   "source": [
    "# Print the classification report for the Logistic Regression model using the test data\n",
    "print(\"Logistic Regression Classification Report (Test data)\")\n",
    "print(lr_testing_report)"
   ]
  },
  {
   "cell_type": "markdown",
   "id": "31025572-de6e-4303-aefd-ef0820c8c54e",
   "metadata": {},
   "source": [
    "## Plots"
   ]
  },
  {
   "cell_type": "code",
   "execution_count": 14,
   "id": "6f0896b7-47d6-408b-9826-e1f3b373e4f5",
   "metadata": {},
   "outputs": [
    {
     "data": {
      "text/html": [
       "<div>\n",
       "<style scoped>\n",
       "    .dataframe tbody tr th:only-of-type {\n",
       "        vertical-align: middle;\n",
       "    }\n",
       "\n",
       "    .dataframe tbody tr th {\n",
       "        vertical-align: top;\n",
       "    }\n",
       "\n",
       "    .dataframe thead th {\n",
       "        text-align: right;\n",
       "    }\n",
       "</style>\n",
       "<table border=\"1\" class=\"dataframe\">\n",
       "  <thead>\n",
       "    <tr style=\"text-align: right;\">\n",
       "      <th></th>\n",
       "      <th>predicted_signal</th>\n",
       "      <th>actual_returns</th>\n",
       "      <th>trading_algorithm_returns</th>\n",
       "    </tr>\n",
       "    <tr>\n",
       "      <th>time</th>\n",
       "      <th></th>\n",
       "      <th></th>\n",
       "      <th></th>\n",
       "    </tr>\n",
       "  </thead>\n",
       "  <tbody>\n",
       "    <tr>\n",
       "      <th>2018-02-20</th>\n",
       "      <td>-1.0</td>\n",
       "      <td>-0.003307</td>\n",
       "      <td>0.003307</td>\n",
       "    </tr>\n",
       "    <tr>\n",
       "      <th>2018-02-21</th>\n",
       "      <td>-1.0</td>\n",
       "      <td>0.002132</td>\n",
       "      <td>-0.002132</td>\n",
       "    </tr>\n",
       "    <tr>\n",
       "      <th>2018-02-22</th>\n",
       "      <td>-1.0</td>\n",
       "      <td>0.000037</td>\n",
       "      <td>-0.000037</td>\n",
       "    </tr>\n",
       "    <tr>\n",
       "      <th>2018-02-23</th>\n",
       "      <td>-1.0</td>\n",
       "      <td>0.017980</td>\n",
       "      <td>-0.017980</td>\n",
       "    </tr>\n",
       "    <tr>\n",
       "      <th>2018-02-26</th>\n",
       "      <td>-1.0</td>\n",
       "      <td>0.009268</td>\n",
       "      <td>-0.009268</td>\n",
       "    </tr>\n",
       "  </tbody>\n",
       "</table>\n",
       "</div>"
      ],
      "text/plain": [
       "            predicted_signal  actual_returns  trading_algorithm_returns\n",
       "time                                                                   \n",
       "2018-02-20              -1.0       -0.003307                   0.003307\n",
       "2018-02-21              -1.0        0.002132                  -0.002132\n",
       "2018-02-22              -1.0        0.000037                  -0.000037\n",
       "2018-02-23              -1.0        0.017980                  -0.017980\n",
       "2018-02-26              -1.0        0.009268                  -0.009268"
      ]
     },
     "execution_count": 14,
     "metadata": {},
     "output_type": "execute_result"
    }
   ],
   "source": [
    "# Create a new empty predictions DataFrame using code provided below.\n",
    "predictions_df = pd.DataFrame(index=X_test.index)\n",
    "predictions_df[\"predicted_signal\"] = testing_signal_predictions\n",
    "predictions_df[\"actual_returns\"] = trading_df[\"actual_returns\"]\n",
    "predictions_df[\"trading_algorithm_returns\"] = predictions_df[\"actual_returns\"] * predictions_df[\"predicted_signal\"]\n",
    "predictions_df.head()"
   ]
  },
  {
   "cell_type": "code",
   "execution_count": 15,
   "id": "b1f86b80-e50f-4db0-b576-d16b80f81c78",
   "metadata": {},
   "outputs": [
    {
     "data": {
      "text/plain": [
       "<AxesSubplot:title={'center':'Cumulative Returns for [Actual Returns] vs [Trading Algorithm Returns] (5 year)'}, xlabel='time'>"
      ]
     },
     "execution_count": 15,
     "metadata": {},
     "output_type": "execute_result"
    },
    {
     "data": {
      "image/png": "[encoded data removed]",
      "text/plain": [
       "<Figure size 432x288 with 1 Axes>"
      ]
     },
     "metadata": {
      "needs_background": "light"
     },
     "output_type": "display_data"
    }
   ],
   "source": [
    "# Calculate and plot the cumulative returns for the `actual_returns` and the `trading_algorithm_returns`\n",
    "(1 + predictions_df[[\"actual_returns\", \"trading_algorithm_returns\"]]).cumprod().plot(title = \"Cumulative Returns for [Actual Returns] vs [Trading Algorithm Returns] (5 year)\")"
   ]
  }
 ],
 "metadata": {
  "kernelspec": {
   "display_name": "Python 3 (ipykernel)",
   "language": "python",
   "name": "python3"
  },
  "language_info": {
   "codemirror_mode": {
    "name": "ipython",
    "version": 3
   },
   "file_extension": ".py",
   "mimetype": "text/x-python",
   "name": "python",
   "nbconvert_exporter": "python",
   "pygments_lexer": "ipython3",
   "version": "3.9.7"
  }
 },
 "nbformat": 4,
 "nbformat_minor": 5
}
