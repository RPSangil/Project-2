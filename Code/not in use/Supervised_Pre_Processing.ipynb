{
 "cells": [
  {
   "cell_type": "code",
   "execution_count": 1,
   "id": "f3963d08-4432-406a-a9f2-381f5b335eda",
   "metadata": {},
   "outputs": [],
   "source": [
    "import numpy as np\n",
    "import pandas as pd\n",
    "from pathlib import Path\n",
    "%matplotlib inline"
   ]
  },
  {
   "cell_type": "code",
   "execution_count": null,
   "id": "faa2e7ec-9fc5-4a88-9a64-c60f823b6fdd",
   "metadata": {},
   "outputs": [],
   "source": [
    "# Read Combined ETF.csv\n",
    "load_df = pd.read_csv(\n",
    "    Path(\"../Data/ETF CSV files/Combined ETF.csv\"), index_col=\"ETF Names\",\n",
    ")\n",
    "\n",
    "load_df.head()"
   ]
  }
 ],
 "metadata": {
  "kernelspec": {
   "display_name": "Python 3 (ipykernel)",
   "language": "python",
   "name": "python3"
  },
  "language_info": {
   "codemirror_mode": {
    "name": "ipython",
    "version": 3
   },
   "file_extension": ".py",
   "mimetype": "text/x-python",
   "name": "python",
   "nbconvert_exporter": "python",
   "pygments_lexer": "ipython3",
   "version": "3.9.7"
  }
 },
 "nbformat": 4,
 "nbformat_minor": 5
}
